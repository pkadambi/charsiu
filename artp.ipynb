{
 "cells": [
  {
   "cell_type": "code",
   "execution_count": 1,
   "id": "24d854fc-7456-465f-817a-4d0ee064dc44",
   "metadata": {},
   "outputs": [
    {
     "name": "stderr",
     "output_type": "stream",
     "text": [
      "Special tokens have been added in the vocabulary, make sure the associated word embeddings are fine-tuned or trained.\n",
      "/home/prad/anaconda3/envs/alignment/lib/python3.7/site-packages/transformers/configuration_utils.py:359: UserWarning: Passing `gradient_checkpointing` to a config initialization is deprecated and will be removed in v5 Transformers. Using `model.gradient_checkpointing_enable()` instead, or if you are using the `Trainer` API, pass `gradient_checkpointing=True` in your `TrainingArguments`.\n",
      "  \"Passing `gradient_checkpointing` to a config initialization is deprecated and will be removed in v5 \"\n"
     ]
    },
    {
     "name": "stdout",
     "output_type": "stream",
     "text": [
      "<function exists at 0x7fc0c1d4a200>\n"
     ]
    }
   ],
   "source": [
    "from src.Charsiu import charsiu_forced_aligner\n",
    "from alignment_helper_fns import *\n",
    "from scipy.io import wavfile\n",
    "import torch\n",
    "import soundfile as sf\n",
    "from gop_helper_fns import *\n",
    "# CHARSIU_MODEL = charsiu_forced_aligner('charsiu/en_w2v2_fc_10ms')\n",
    "\n",
    "#datafiles\n",
    "TRANSCRIPT = 'The chairman decided to pave over the shopping center garden'\n",
    "# audio_filepath = '/home/prad/github/charsiu/data/artp_files/chairman_healthy.wav'\n",
    "audio_filepath = '/home/prad/github/charsiu/data/artp_files/chairman_healthy.wav'\n",
    "print(os.path.exists)\n",
    "# tg_filepath = '/home/prad/github/charsiu/data/artp_files/chairman_healthy.TextGrids'\n",
    "\n",
    "#load charsiu mdoel\n",
    "# CHARSIU_MODEL.serve(audio = audio_filepath, text = TRANSCRIPT, save_to = tg_filepath)\n",
    "# PHONE2IND = CHARSIU_MODEL.charsiu_processor.processor.tokenizer.encoder\n",
    "# \n",
    "# aligned_phone_df = textgridpath_to_phonedf(txtgrid_path=tg_filepath, phone_key='phones', replace_silence=True, remove_numbers=True)\n",
    "audio_signal, fs = sf.read(audio_filepath)"
   ]
  },
  {
   "cell_type": "code",
   "execution_count": null,
   "id": "b04518ab-e6ac-4383-991d-42517e803b54",
   "metadata": {},
   "outputs": [],
   "source": [
    "calculate_GOP_e2e(audio_filepath=audio_filepath, transcript=TRANSCRIPT, charsiu_model=CHARSIU_MODEL)"
   ]
  },
  {
   "cell_type": "code",
   "execution_count": null,
   "id": "0c9359c8-cc1e-4d9f-96bf-319fd99e85dc",
   "metadata": {},
   "outputs": [],
   "source": [
    "'''\n",
    "Artp function \n",
    "\n",
    "Here are the steps to computing Artp\n",
    "\n",
    "\n",
    "1. Generate the sequence of phones from the text \n",
    "2. Generate the framewise phone labels\n",
    "3. Generate the probability distribution for each frame\n",
    "4. For each frame, calculate the expected/maximum probability\n",
    "\n",
    "--\n",
    "5. Group by each phoneme\n",
    "\n",
    "\n",
    "\n",
    "\n",
    "---\n",
    "My improvements\n",
    "6. a windowed version of artp\n",
    "\n",
    "\n",
    "'''\n",
    "\n"
   ]
  },
  {
   "cell_type": "code",
   "execution_count": null,
   "id": "a0142b11-1d38-4951-8825-5384d047edcc",
   "metadata": {},
   "outputs": [],
   "source": [
    "print(CHARSIU_MODEL.charsiu_processor.processor.tokenizer.encoder)"
   ]
  },
  {
   "cell_type": "code",
   "execution_count": null,
   "id": "ed9ee113-8bd8-4d84-8625-e838af0cd346",
   "metadata": {},
   "outputs": [],
   "source": [
    "# audio = charsiu.charsiu_processor.audio_preprocess(audio_signal)\n",
    "# inputs = torch.tensor(audio).float().unsqueeze(0).to(charsiu.device)\n",
    "audio_signal, fs = sf.read(audio_filepath)\n",
    "phones, words = CHARSIU_MODEL.align(audio_signal, text=TRANSCRIPT)\n",
    "phndf = pd.DataFrame.from_records(phones, columns = ['start', 'end', 'phone'])\n",
    "np.unique(phndf['phone'].values)"
   ]
  },
  {
   "cell_type": "code",
   "execution_count": null,
   "id": "b6adda97-fb00-4682-a43e-f1fa52cf6316",
   "metadata": {},
   "outputs": [],
   "source": [
    "calculate_GOP_e2e(audio_filepath=audio_filepath, transcript=TRANSCRIPT, charsiu_model=CHARSIU_MODEL)"
   ]
  },
  {
   "cell_type": "code",
   "execution_count": 1,
   "id": "d16da715-78c0-416a-ab73-c28fe56e194e",
   "metadata": {},
   "outputs": [
    {
     "name": "stdout",
     "output_type": "stream",
     "text": [
      "True\n"
     ]
    }
   ],
   "source": [
    "import soundfile as sf\n",
    "import os\n",
    "audio_filepath = '/home/prad/github/charsiu/data/artp_files/chairman_healthy.wav'\n",
    "print(os.path.exists(audio_filepath))\n",
    "audio_signal, fs = sf.read(audio_filepath)"
   ]
  },
  {
   "cell_type": "code",
   "execution_count": 10,
   "id": "1c07c87d-27a2-4e2a-9f52-ef138e68836a",
   "metadata": {},
   "outputs": [
    {
     "name": "stdout",
     "output_type": "stream",
     "text": [
      "False\n"
     ]
    },
    {
     "ename": "RuntimeError",
     "evalue": "Error opening './data/artp_files/chariman_healthy.wav': System error.",
     "output_type": "error",
     "traceback": [
      "\u001b[0;31m---------------------------------------------------------------------------\u001b[0m",
      "\u001b[0;31mRuntimeError\u001b[0m                              Traceback (most recent call last)",
      "\u001b[0;32m/tmp/ipykernel_12582/2003365054.py\u001b[0m in \u001b[0;36m<module>\u001b[0;34m\u001b[0m\n\u001b[1;32m      2\u001b[0m \u001b[0mfilepath\u001b[0m \u001b[0;34m=\u001b[0m \u001b[0;34m'./data/artp_files/chariman_healthy.wav'\u001b[0m\u001b[0;34m\u001b[0m\u001b[0;34m\u001b[0m\u001b[0m\n\u001b[1;32m      3\u001b[0m \u001b[0mprint\u001b[0m\u001b[0;34m(\u001b[0m\u001b[0mos\u001b[0m\u001b[0;34m.\u001b[0m\u001b[0mpath\u001b[0m\u001b[0;34m.\u001b[0m\u001b[0misfile\u001b[0m\u001b[0;34m(\u001b[0m\u001b[0mfilepath\u001b[0m\u001b[0;34m)\u001b[0m\u001b[0;34m)\u001b[0m\u001b[0;34m\u001b[0m\u001b[0;34m\u001b[0m\u001b[0m\n\u001b[0;32m----> 4\u001b[0;31m \u001b[0map1\u001b[0m \u001b[0;34m=\u001b[0m \u001b[0mcalculate_GOP_e2e\u001b[0m\u001b[0;34m(\u001b[0m\u001b[0maudio_filepath\u001b[0m\u001b[0;34m=\u001b[0m\u001b[0mfilepath\u001b[0m\u001b[0;34m,\u001b[0m \u001b[0mtranscript\u001b[0m\u001b[0;34m=\u001b[0m\u001b[0mTRANSCRIPT\u001b[0m\u001b[0;34m,\u001b[0m \u001b[0mcharsiu_model\u001b[0m\u001b[0;34m=\u001b[0m\u001b[0mCHARSIU_MODEL\u001b[0m\u001b[0;34m)\u001b[0m\u001b[0;34m\u001b[0m\u001b[0;34m\u001b[0m\u001b[0m\n\u001b[0m\u001b[1;32m      5\u001b[0m \u001b[0mprint\u001b[0m\u001b[0;34m(\u001b[0m\u001b[0;34m'Healthy File1:\\t'\u001b[0m\u001b[0;34m,\u001b[0m \u001b[0map1\u001b[0m\u001b[0;34m)\u001b[0m\u001b[0;34m\u001b[0m\u001b[0;34m\u001b[0m\u001b[0m\n\u001b[1;32m      6\u001b[0m \u001b[0;34m\u001b[0m\u001b[0m\n",
      "\u001b[0;32m/tmp/ipykernel_12582/145423539.py\u001b[0m in \u001b[0;36mcalculate_GOP_e2e\u001b[0;34m(audio_filepath, transcript, charsiu_model, phone_subset)\u001b[0m\n\u001b[1;32m      8\u001b[0m \u001b[0;34m\u001b[0m\u001b[0m\n\u001b[1;32m      9\u001b[0m \u001b[0;32mdef\u001b[0m \u001b[0mcalculate_GOP_e2e\u001b[0m\u001b[0;34m(\u001b[0m\u001b[0maudio_filepath\u001b[0m\u001b[0;34m,\u001b[0m \u001b[0mtranscript\u001b[0m\u001b[0;34m,\u001b[0m \u001b[0mcharsiu_model\u001b[0m\u001b[0;34m,\u001b[0m \u001b[0mphone_subset\u001b[0m\u001b[0;34m=\u001b[0m\u001b[0;32mNone\u001b[0m\u001b[0;34m)\u001b[0m\u001b[0;34m:\u001b[0m\u001b[0;34m\u001b[0m\u001b[0;34m\u001b[0m\u001b[0m\n\u001b[0;32m---> 10\u001b[0;31m     \u001b[0maudio_signal\u001b[0m\u001b[0;34m,\u001b[0m \u001b[0mfs\u001b[0m \u001b[0;34m=\u001b[0m \u001b[0msf\u001b[0m\u001b[0;34m.\u001b[0m\u001b[0mread\u001b[0m\u001b[0;34m(\u001b[0m\u001b[0maudio_filepath\u001b[0m\u001b[0;34m)\u001b[0m\u001b[0;34m\u001b[0m\u001b[0;34m\u001b[0m\u001b[0m\n\u001b[0m\u001b[1;32m     11\u001b[0m     \u001b[0mphones\u001b[0m\u001b[0;34m,\u001b[0m \u001b[0mwords\u001b[0m\u001b[0;34m,\u001b[0m \u001b[0mlogits\u001b[0m \u001b[0;34m=\u001b[0m \u001b[0mcharsiu_model\u001b[0m\u001b[0;34m.\u001b[0m\u001b[0malign\u001b[0m\u001b[0;34m(\u001b[0m\u001b[0maudio_signal\u001b[0m\u001b[0;34m,\u001b[0m \u001b[0mtext\u001b[0m\u001b[0;34m=\u001b[0m\u001b[0mTRANSCRIPT\u001b[0m\u001b[0;34m,\u001b[0m \u001b[0mreturn_logits\u001b[0m\u001b[0;34m=\u001b[0m\u001b[0;32mTrue\u001b[0m\u001b[0;34m)\u001b[0m\u001b[0;34m\u001b[0m\u001b[0;34m\u001b[0m\u001b[0m\n\u001b[1;32m     12\u001b[0m     \u001b[0maligned_phone_df\u001b[0m \u001b[0;34m=\u001b[0m \u001b[0mpd\u001b[0m\u001b[0;34m.\u001b[0m\u001b[0mDataFrame\u001b[0m\u001b[0;34m.\u001b[0m\u001b[0mfrom_records\u001b[0m\u001b[0;34m(\u001b[0m\u001b[0mphones\u001b[0m\u001b[0;34m,\u001b[0m \u001b[0mcolumns\u001b[0m \u001b[0;34m=\u001b[0m \u001b[0;34m[\u001b[0m\u001b[0;34m'start'\u001b[0m\u001b[0;34m,\u001b[0m \u001b[0;34m'end'\u001b[0m\u001b[0;34m,\u001b[0m \u001b[0;34m'phone'\u001b[0m\u001b[0;34m]\u001b[0m\u001b[0;34m)\u001b[0m\u001b[0;34m\u001b[0m\u001b[0;34m\u001b[0m\u001b[0m\n",
      "\u001b[0;32m~/anaconda3/envs/alignment/lib/python3.7/site-packages/soundfile.py\u001b[0m in \u001b[0;36mread\u001b[0;34m(file, frames, start, stop, dtype, always_2d, fill_value, out, samplerate, channels, format, subtype, endian, closefd)\u001b[0m\n\u001b[1;32m    255\u001b[0m     \"\"\"\n\u001b[1;32m    256\u001b[0m     with SoundFile(file, 'r', samplerate, channels,\n\u001b[0;32m--> 257\u001b[0;31m                    subtype, endian, format, closefd) as f:\n\u001b[0m\u001b[1;32m    258\u001b[0m         \u001b[0mframes\u001b[0m \u001b[0;34m=\u001b[0m \u001b[0mf\u001b[0m\u001b[0;34m.\u001b[0m\u001b[0m_prepare_read\u001b[0m\u001b[0;34m(\u001b[0m\u001b[0mstart\u001b[0m\u001b[0;34m,\u001b[0m \u001b[0mstop\u001b[0m\u001b[0;34m,\u001b[0m \u001b[0mframes\u001b[0m\u001b[0;34m)\u001b[0m\u001b[0;34m\u001b[0m\u001b[0;34m\u001b[0m\u001b[0m\n\u001b[1;32m    259\u001b[0m         \u001b[0mdata\u001b[0m \u001b[0;34m=\u001b[0m \u001b[0mf\u001b[0m\u001b[0;34m.\u001b[0m\u001b[0mread\u001b[0m\u001b[0;34m(\u001b[0m\u001b[0mframes\u001b[0m\u001b[0;34m,\u001b[0m \u001b[0mdtype\u001b[0m\u001b[0;34m,\u001b[0m \u001b[0malways_2d\u001b[0m\u001b[0;34m,\u001b[0m \u001b[0mfill_value\u001b[0m\u001b[0;34m,\u001b[0m \u001b[0mout\u001b[0m\u001b[0;34m)\u001b[0m\u001b[0;34m\u001b[0m\u001b[0;34m\u001b[0m\u001b[0m\n",
      "\u001b[0;32m~/anaconda3/envs/alignment/lib/python3.7/site-packages/soundfile.py\u001b[0m in \u001b[0;36m__init__\u001b[0;34m(self, file, mode, samplerate, channels, subtype, endian, format, closefd)\u001b[0m\n\u001b[1;32m    627\u001b[0m         self._info = _create_info_struct(file, mode, samplerate, channels,\n\u001b[1;32m    628\u001b[0m                                          format, subtype, endian)\n\u001b[0;32m--> 629\u001b[0;31m         \u001b[0mself\u001b[0m\u001b[0;34m.\u001b[0m\u001b[0m_file\u001b[0m \u001b[0;34m=\u001b[0m \u001b[0mself\u001b[0m\u001b[0;34m.\u001b[0m\u001b[0m_open\u001b[0m\u001b[0;34m(\u001b[0m\u001b[0mfile\u001b[0m\u001b[0;34m,\u001b[0m \u001b[0mmode_int\u001b[0m\u001b[0;34m,\u001b[0m \u001b[0mclosefd\u001b[0m\u001b[0;34m)\u001b[0m\u001b[0;34m\u001b[0m\u001b[0;34m\u001b[0m\u001b[0m\n\u001b[0m\u001b[1;32m    630\u001b[0m         \u001b[0;32mif\u001b[0m \u001b[0mset\u001b[0m\u001b[0;34m(\u001b[0m\u001b[0mmode\u001b[0m\u001b[0;34m)\u001b[0m\u001b[0;34m.\u001b[0m\u001b[0missuperset\u001b[0m\u001b[0;34m(\u001b[0m\u001b[0;34m'r+'\u001b[0m\u001b[0;34m)\u001b[0m \u001b[0;32mand\u001b[0m \u001b[0mself\u001b[0m\u001b[0;34m.\u001b[0m\u001b[0mseekable\u001b[0m\u001b[0;34m(\u001b[0m\u001b[0;34m)\u001b[0m\u001b[0;34m:\u001b[0m\u001b[0;34m\u001b[0m\u001b[0;34m\u001b[0m\u001b[0m\n\u001b[1;32m    631\u001b[0m             \u001b[0;31m# Move write position to 0 (like in Python file objects)\u001b[0m\u001b[0;34m\u001b[0m\u001b[0;34m\u001b[0m\u001b[0;34m\u001b[0m\u001b[0m\n",
      "\u001b[0;32m~/anaconda3/envs/alignment/lib/python3.7/site-packages/soundfile.py\u001b[0m in \u001b[0;36m_open\u001b[0;34m(self, file, mode_int, closefd)\u001b[0m\n\u001b[1;32m   1182\u001b[0m             \u001b[0;32mraise\u001b[0m \u001b[0mTypeError\u001b[0m\u001b[0;34m(\u001b[0m\u001b[0;34m\"Invalid file: {0!r}\"\u001b[0m\u001b[0;34m.\u001b[0m\u001b[0mformat\u001b[0m\u001b[0;34m(\u001b[0m\u001b[0mself\u001b[0m\u001b[0;34m.\u001b[0m\u001b[0mname\u001b[0m\u001b[0;34m)\u001b[0m\u001b[0;34m)\u001b[0m\u001b[0;34m\u001b[0m\u001b[0;34m\u001b[0m\u001b[0m\n\u001b[1;32m   1183\u001b[0m         _error_check(_snd.sf_error(file_ptr),\n\u001b[0;32m-> 1184\u001b[0;31m                      \"Error opening {0!r}: \".format(self.name))\n\u001b[0m\u001b[1;32m   1185\u001b[0m         \u001b[0;32mif\u001b[0m \u001b[0mmode_int\u001b[0m \u001b[0;34m==\u001b[0m \u001b[0m_snd\u001b[0m\u001b[0;34m.\u001b[0m\u001b[0mSFM_WRITE\u001b[0m\u001b[0;34m:\u001b[0m\u001b[0;34m\u001b[0m\u001b[0;34m\u001b[0m\u001b[0m\n\u001b[1;32m   1186\u001b[0m             \u001b[0;31m# Due to a bug in libsndfile version <= 1.0.25, frames != 0\u001b[0m\u001b[0;34m\u001b[0m\u001b[0;34m\u001b[0m\u001b[0;34m\u001b[0m\u001b[0m\n",
      "\u001b[0;32m~/anaconda3/envs/alignment/lib/python3.7/site-packages/soundfile.py\u001b[0m in \u001b[0;36m_error_check\u001b[0;34m(err, prefix)\u001b[0m\n\u001b[1;32m   1355\u001b[0m     \u001b[0;32mif\u001b[0m \u001b[0merr\u001b[0m \u001b[0;34m!=\u001b[0m \u001b[0;36m0\u001b[0m\u001b[0;34m:\u001b[0m\u001b[0;34m\u001b[0m\u001b[0;34m\u001b[0m\u001b[0m\n\u001b[1;32m   1356\u001b[0m         \u001b[0merr_str\u001b[0m \u001b[0;34m=\u001b[0m \u001b[0m_snd\u001b[0m\u001b[0;34m.\u001b[0m\u001b[0msf_error_number\u001b[0m\u001b[0;34m(\u001b[0m\u001b[0merr\u001b[0m\u001b[0;34m)\u001b[0m\u001b[0;34m\u001b[0m\u001b[0;34m\u001b[0m\u001b[0m\n\u001b[0;32m-> 1357\u001b[0;31m         \u001b[0;32mraise\u001b[0m \u001b[0mRuntimeError\u001b[0m\u001b[0;34m(\u001b[0m\u001b[0mprefix\u001b[0m \u001b[0;34m+\u001b[0m \u001b[0m_ffi\u001b[0m\u001b[0;34m.\u001b[0m\u001b[0mstring\u001b[0m\u001b[0;34m(\u001b[0m\u001b[0merr_str\u001b[0m\u001b[0;34m)\u001b[0m\u001b[0;34m.\u001b[0m\u001b[0mdecode\u001b[0m\u001b[0;34m(\u001b[0m\u001b[0;34m'utf-8'\u001b[0m\u001b[0;34m,\u001b[0m \u001b[0;34m'replace'\u001b[0m\u001b[0;34m)\u001b[0m\u001b[0;34m)\u001b[0m\u001b[0;34m\u001b[0m\u001b[0;34m\u001b[0m\u001b[0m\n\u001b[0m\u001b[1;32m   1358\u001b[0m \u001b[0;34m\u001b[0m\u001b[0m\n\u001b[1;32m   1359\u001b[0m \u001b[0;34m\u001b[0m\u001b[0m\n",
      "\u001b[0;31mRuntimeError\u001b[0m: Error opening './data/artp_files/chariman_healthy.wav': System error."
     ]
    }
   ],
   "source": [
    "''' Healthy file'''\n",
    "filepath = './data/artp_files/chariman_healthy.wav'\n",
    "print(os.path.isfile(filepath))\n",
    "ap1 = calculate_GOP_e2e(audio_filepath=filepath, transcript=TRANSCRIPT, charsiu_model=CHARSIU_MODEL)\n",
    "print('Healthy File1:\\t', ap1)\n",
    "\n",
    "''' Healthy file older male'''\n",
    "filepath = './data/artp_files/chairman_healthy_older_male.wav'\n",
    "print(os.path.isfile(filepath))\n",
    "ap2 = calculate_GOP_e2e(audio_filepath=filepath, transcript=TRANSCRIPT, charsiu_model=CHARSIU_MODEL)\n",
    "print('Healthy File2 Older:\\t', ap1)\n",
    "\n",
    "''' ALS Speaker'''\n",
    "filepath = './data/artp_files/chairman_als.wav'\n",
    "print(os.path.isfile(filepath))\n",
    "ap3 = calculate_GOP_e2e(audio_filepath=filepath, transcript=TRANSCRIPT, charsiu_model=CHARSIU_MODEL)\n",
    "print('ALS File1:\\t', ap1)"
   ]
  },
  {
   "cell_type": "code",
   "execution_count": null,
   "id": "b5df311a-0297-4442-a26b-0894134537e5",
   "metadata": {},
   "outputs": [],
   "source": [
    "''' Run initial GOP compute on Gabi's files'''\n",
    "\n"
   ]
  },
  {
   "cell_type": "code",
   "execution_count": 11,
   "id": "d171d423-f8ac-4baf-a184-6ec61658590e",
   "metadata": {},
   "outputs": [
    {
     "data": {
      "text/plain": [
       "5.3"
      ]
     },
     "execution_count": 11,
     "metadata": {},
     "output_type": "execute_result"
    }
   ],
   "source": [
    "phone_df.iloc[-1,1]"
   ]
  },
  {
   "cell_type": "code",
   "execution_count": null,
   "id": "a47ca6fb-bc2c-4c1c-b4d5-b07c21202544",
   "metadata": {},
   "outputs": [],
   "source": []
  }
 ],
 "metadata": {
  "kernelspec": {
   "display_name": "a2",
   "language": "python",
   "name": "a2"
  },
  "language_info": {
   "codemirror_mode": {
    "name": "ipython",
    "version": 3
   },
   "file_extension": ".py",
   "mimetype": "text/x-python",
   "name": "python",
   "nbconvert_exporter": "python",
   "pygments_lexer": "ipython3",
   "version": "3.7.11"
  }
 },
 "nbformat": 4,
 "nbformat_minor": 5
}
