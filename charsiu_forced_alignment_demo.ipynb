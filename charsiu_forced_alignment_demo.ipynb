{
 "cells": [
  {
   "cell_type": "code",
   "execution_count": 1,
   "metadata": {
    "colab": {
     "base_uri": "https://localhost:8080/"
    },
    "id": "DIROcsj7Rv4g",
    "outputId": "4cda97cf-0ed3-4027-cf17-800c4d0816d3"
   },
   "outputs": [],
   "source": [
    "import os\n",
    "from os.path import exists, join, expanduser\n",
    "\n",
    "# os.chdir(expanduser(\"~\"))\n",
    "# charsiu_dir = 'charsiu'\n",
    "# if exists(charsiu_dir):\n",
    "  # !rm -rf /root/charsiu\n",
    "# if not exists(charsiu_dir):\n",
    "  # ! git clone -b development https://github.com/lingjzhu/$charsiu_dir\n",
    "  # ! cd charsiu && git checkout && cd -\n",
    "#   \n",
    "# os.chdir(charsiu_dir)    "
   ]
  },
  {
   "cell_type": "code",
   "execution_count": 2,
   "metadata": {
    "colab": {
     "base_uri": "https://localhost:8080/"
    },
    "id": "GmHNb4OxRVD8",
    "outputId": "504264d8-5abe-4ba2-a56f-6db5fe5456ba"
   },
   "outputs": [],
   "source": [
    "import sys\n",
    "import torch\n",
    "from datasets import load_dataset\n",
    "import matplotlib.pyplot as plt\n",
    "# sys.path.append('src/')\n",
    "#sys.path.insert(0,'src')\n",
    "from src.Charsiu import charsiu_forced_aligner, charsiu_attention_aligner"
   ]
  },
  {
   "cell_type": "code",
   "execution_count": 3,
   "metadata": {
    "id": "N2wZBRx_WOfv"
   },
   "outputs": [
    {
     "name": "stderr",
     "output_type": "stream",
     "text": [
      "Reusing dataset timit_asr (/home/prad/.cache/huggingface/datasets/timit_asr/clean/2.0.1/31aa396113a9e0aaf4a6ba07260fd65ff80dfa0d4227fa76a27f1263725ac1b1)\n"
     ]
    },
    {
     "data": {
      "application/vnd.jupyter.widget-view+json": {
       "model_id": "aac6298c7c404b9fbbddb50f52b7c49d",
       "version_major": 2,
       "version_minor": 0
      },
      "text/plain": [
       "  0%|          | 0/2 [00:00<?, ?it/s]"
      ]
     },
     "metadata": {},
     "output_type": "display_data"
    }
   ],
   "source": [
    "timit = load_dataset('timit_asr')"
   ]
  },
  {
   "cell_type": "code",
   "execution_count": 4,
   "metadata": {
    "colab": {
     "base_uri": "https://localhost:8080/"
    },
    "id": "kBzpi5mSjiyL",
    "outputId": "bb57f11a-5ebd-45c5-f593-89253b77151a"
   },
   "outputs": [
    {
     "name": "stdout",
     "output_type": "stream",
     "text": [
      "Text transcription:Would such an act of refusal be useful?\n",
      "Audio path: /home/prad/.cache/huggingface/datasets/downloads/extracted/dbcaf91befa46eaa0a2429c0ae995be3ece51313efbb4cdcdcd68994131e815e/data/TRAIN/DR4/MMDM0/SI681.WAV\n"
     ]
    }
   ],
   "source": [
    "# load data\n",
    "sample = timit['train'][0]\n",
    "text = sample['text']\n",
    "audio_path = sample['file']\n",
    "print('Text transcription:%s'%(text))\n",
    "print('Audio path: %s'%audio_path)"
   ]
  },
  {
   "cell_type": "code",
   "execution_count": 43,
   "metadata": {
    "colab": {
     "base_uri": "https://localhost:8080/"
    },
    "id": "q7paWfYdROc5",
    "outputId": "d494e91a-863d-4ca5-f9bb-e8c3160d3543"
   },
   "outputs": [
    {
     "name": "stderr",
     "output_type": "stream",
     "text": [
      "Special tokens have been added in the vocabulary, make sure the associated word embeddings are fine-tuned or trained.\n"
     ]
    }
   ],
   "source": [
    "# initialize model\n",
    "charsiu = charsiu_forced_aligner(aligner='charsiu/en_w2v2_fc_10ms')"
   ]
  },
  {
   "cell_type": "code",
   "execution_count": 44,
   "metadata": {
    "id": "yHW92QgDROc4"
   },
   "outputs": [],
   "source": [
    "alignment = charsiu.align(audio=audio_path,text=text)"
   ]
  },
  {
   "cell_type": "code",
   "execution_count": 45,
   "metadata": {},
   "outputs": [
    {
     "data": {
      "text/html": [
       "<div>\n",
       "<style scoped>\n",
       "    .dataframe tbody tr th:only-of-type {\n",
       "        vertical-align: middle;\n",
       "    }\n",
       "\n",
       "    .dataframe tbody tr th {\n",
       "        vertical-align: top;\n",
       "    }\n",
       "\n",
       "    .dataframe thead th {\n",
       "        text-align: right;\n",
       "    }\n",
       "</style>\n",
       "<table border=\"1\" class=\"dataframe\">\n",
       "  <thead>\n",
       "    <tr style=\"text-align: right;\">\n",
       "      <th></th>\n",
       "      <th>0</th>\n",
       "      <th>1</th>\n",
       "      <th>2</th>\n",
       "    </tr>\n",
       "  </thead>\n",
       "  <tbody>\n",
       "    <tr>\n",
       "      <th>0</th>\n",
       "      <td>0.00</td>\n",
       "      <td>0.08</td>\n",
       "      <td>[SIL]</td>\n",
       "    </tr>\n",
       "    <tr>\n",
       "      <th>1</th>\n",
       "      <td>0.08</td>\n",
       "      <td>0.15</td>\n",
       "      <td>W</td>\n",
       "    </tr>\n",
       "    <tr>\n",
       "      <th>2</th>\n",
       "      <td>0.15</td>\n",
       "      <td>0.20</td>\n",
       "      <td>UH</td>\n",
       "    </tr>\n",
       "    <tr>\n",
       "      <th>3</th>\n",
       "      <td>0.20</td>\n",
       "      <td>0.24</td>\n",
       "      <td>D</td>\n",
       "    </tr>\n",
       "    <tr>\n",
       "      <th>4</th>\n",
       "      <td>0.24</td>\n",
       "      <td>0.38</td>\n",
       "      <td>S</td>\n",
       "    </tr>\n",
       "    <tr>\n",
       "      <th>5</th>\n",
       "      <td>0.38</td>\n",
       "      <td>0.46</td>\n",
       "      <td>AH</td>\n",
       "    </tr>\n",
       "    <tr>\n",
       "      <th>6</th>\n",
       "      <td>0.46</td>\n",
       "      <td>0.59</td>\n",
       "      <td>CH</td>\n",
       "    </tr>\n",
       "    <tr>\n",
       "      <th>7</th>\n",
       "      <td>0.59</td>\n",
       "      <td>0.60</td>\n",
       "      <td>AE</td>\n",
       "    </tr>\n",
       "    <tr>\n",
       "      <th>8</th>\n",
       "      <td>0.60</td>\n",
       "      <td>0.68</td>\n",
       "      <td>N</td>\n",
       "    </tr>\n",
       "    <tr>\n",
       "      <th>9</th>\n",
       "      <td>0.68</td>\n",
       "      <td>0.83</td>\n",
       "      <td>AE</td>\n",
       "    </tr>\n",
       "    <tr>\n",
       "      <th>10</th>\n",
       "      <td>0.83</td>\n",
       "      <td>0.94</td>\n",
       "      <td>K</td>\n",
       "    </tr>\n",
       "    <tr>\n",
       "      <th>11</th>\n",
       "      <td>0.94</td>\n",
       "      <td>1.00</td>\n",
       "      <td>T</td>\n",
       "    </tr>\n",
       "    <tr>\n",
       "      <th>12</th>\n",
       "      <td>1.00</td>\n",
       "      <td>1.05</td>\n",
       "      <td>AH</td>\n",
       "    </tr>\n",
       "    <tr>\n",
       "      <th>13</th>\n",
       "      <td>1.05</td>\n",
       "      <td>1.13</td>\n",
       "      <td>V</td>\n",
       "    </tr>\n",
       "    <tr>\n",
       "      <th>14</th>\n",
       "      <td>1.13</td>\n",
       "      <td>1.18</td>\n",
       "      <td>R</td>\n",
       "    </tr>\n",
       "    <tr>\n",
       "      <th>15</th>\n",
       "      <td>1.18</td>\n",
       "      <td>1.22</td>\n",
       "      <td>AH</td>\n",
       "    </tr>\n",
       "    <tr>\n",
       "      <th>16</th>\n",
       "      <td>1.22</td>\n",
       "      <td>1.34</td>\n",
       "      <td>F</td>\n",
       "    </tr>\n",
       "    <tr>\n",
       "      <th>17</th>\n",
       "      <td>1.34</td>\n",
       "      <td>1.42</td>\n",
       "      <td>Y</td>\n",
       "    </tr>\n",
       "    <tr>\n",
       "      <th>18</th>\n",
       "      <td>1.42</td>\n",
       "      <td>1.48</td>\n",
       "      <td>UW</td>\n",
       "    </tr>\n",
       "    <tr>\n",
       "      <th>19</th>\n",
       "      <td>1.48</td>\n",
       "      <td>1.53</td>\n",
       "      <td>Z</td>\n",
       "    </tr>\n",
       "    <tr>\n",
       "      <th>20</th>\n",
       "      <td>1.53</td>\n",
       "      <td>1.63</td>\n",
       "      <td>AH</td>\n",
       "    </tr>\n",
       "    <tr>\n",
       "      <th>21</th>\n",
       "      <td>1.63</td>\n",
       "      <td>1.68</td>\n",
       "      <td>L</td>\n",
       "    </tr>\n",
       "    <tr>\n",
       "      <th>22</th>\n",
       "      <td>1.68</td>\n",
       "      <td>1.78</td>\n",
       "      <td>B</td>\n",
       "    </tr>\n",
       "    <tr>\n",
       "      <th>23</th>\n",
       "      <td>1.78</td>\n",
       "      <td>1.88</td>\n",
       "      <td>IY</td>\n",
       "    </tr>\n",
       "    <tr>\n",
       "      <th>24</th>\n",
       "      <td>1.88</td>\n",
       "      <td>1.99</td>\n",
       "      <td>Y</td>\n",
       "    </tr>\n",
       "    <tr>\n",
       "      <th>25</th>\n",
       "      <td>1.99</td>\n",
       "      <td>2.08</td>\n",
       "      <td>UW</td>\n",
       "    </tr>\n",
       "    <tr>\n",
       "      <th>26</th>\n",
       "      <td>2.08</td>\n",
       "      <td>2.14</td>\n",
       "      <td>S</td>\n",
       "    </tr>\n",
       "    <tr>\n",
       "      <th>27</th>\n",
       "      <td>2.14</td>\n",
       "      <td>2.23</td>\n",
       "      <td>F</td>\n",
       "    </tr>\n",
       "    <tr>\n",
       "      <th>28</th>\n",
       "      <td>2.23</td>\n",
       "      <td>2.27</td>\n",
       "      <td>AH</td>\n",
       "    </tr>\n",
       "    <tr>\n",
       "      <th>29</th>\n",
       "      <td>2.27</td>\n",
       "      <td>2.48</td>\n",
       "      <td>L</td>\n",
       "    </tr>\n",
       "  </tbody>\n",
       "</table>\n",
       "</div>"
      ],
      "text/plain": [
       "       0     1      2\n",
       "0   0.00  0.08  [SIL]\n",
       "1   0.08  0.15      W\n",
       "2   0.15  0.20     UH\n",
       "3   0.20  0.24      D\n",
       "4   0.24  0.38      S\n",
       "5   0.38  0.46     AH\n",
       "6   0.46  0.59     CH\n",
       "7   0.59  0.60     AE\n",
       "8   0.60  0.68      N\n",
       "9   0.68  0.83     AE\n",
       "10  0.83  0.94      K\n",
       "11  0.94  1.00      T\n",
       "12  1.00  1.05     AH\n",
       "13  1.05  1.13      V\n",
       "14  1.13  1.18      R\n",
       "15  1.18  1.22     AH\n",
       "16  1.22  1.34      F\n",
       "17  1.34  1.42      Y\n",
       "18  1.42  1.48     UW\n",
       "19  1.48  1.53      Z\n",
       "20  1.53  1.63     AH\n",
       "21  1.63  1.68      L\n",
       "22  1.68  1.78      B\n",
       "23  1.78  1.88     IY\n",
       "24  1.88  1.99      Y\n",
       "25  1.99  2.08     UW\n",
       "26  2.08  2.14      S\n",
       "27  2.14  2.23      F\n",
       "28  2.23  2.27     AH\n",
       "29  2.27  2.48      L"
      ]
     },
     "execution_count": 45,
     "metadata": {},
     "output_type": "execute_result"
    }
   ],
   "source": [
    "import pandas as pd \n",
    "pd.DataFrame(alignment[0])"
   ]
  },
  {
   "cell_type": "code",
   "execution_count": 46,
   "metadata": {
    "colab": {
     "base_uri": "https://localhost:8080/"
    },
    "id": "yCmbdfpzXrQ3",
    "outputId": "e2017f28-4fc1-4394-e21e-47771a59d740"
   },
   "outputs": [
    {
     "name": "stdout",
     "output_type": "stream",
     "text": [
      "([(0.0, 0.08, '[SIL]'), (0.08, 0.15, 'W'), (0.15, 0.2, 'UH'), (0.2, 0.24, 'D'), (0.24, 0.38, 'S'), (0.38, 0.46, 'AH'), (0.46, 0.59, 'CH'), (0.59, 0.6, 'AE'), (0.6, 0.68, 'N'), (0.68, 0.83, 'AE'), (0.83, 0.94, 'K'), (0.94, 1.0, 'T'), (1.0, 1.05, 'AH'), (1.05, 1.13, 'V'), (1.13, 1.18, 'R'), (1.18, 1.22, 'AH'), (1.22, 1.34, 'F'), (1.34, 1.42, 'Y'), (1.42, 1.48, 'UW'), (1.48, 1.53, 'Z'), (1.53, 1.63, 'AH'), (1.63, 1.68, 'L'), (1.68, 1.78, 'B'), (1.78, 1.88, 'IY'), (1.88, 1.99, 'Y'), (1.99, 2.08, 'UW'), (2.08, 2.14, 'S'), (2.14, 2.23, 'F'), (2.23, 2.27, 'AH'), (2.27, 2.48, 'L')], [(0.0, 0.08, '[SIL]'), (0.08, 0.24, 'would'), (0.24, 0.59, 'such'), (0.59, 0.68, 'an'), (0.68, 1.0, 'act'), (1.0, 1.13, 'of'), (1.13, 1.68, 'refusal'), (1.68, 1.88, 'be'), (1.88, 2.48, 'useful')])\n",
      "\n",
      " Ground Truth \n",
      "\n",
      "[(0.0, 0.1225, 'h#'), (0.1225, 0.154125, 'w'), (0.154125, 0.2175, 'ix'), (0.2175, 0.25, 'dcl'), (0.25, 0.3725, 's'), (0.3725, 0.4675, 'ah'), (0.4675, 0.4925, 'tcl'), (0.4925, 0.5875, 'ch'), (0.5875, 0.6225, 'ix'), (0.6225, 0.6675, 'n'), (0.6675, 0.8425, 'ae'), (0.8425, 0.98, 'kcl'), (0.98, 0.9925, 't'), (0.9925, 1.0575, 'ix'), (1.0575, 1.1435625, 'v'), (1.1435625, 1.180125, 'r'), (1.180125, 1.2175, 'ix'), (1.2175, 1.3576875, 'f'), (1.3576875, 1.40725, 'y'), (1.40725, 1.5025, 'ux'), (1.5025, 1.574375, 'zh'), (1.574375, 1.6925, 'el'), (1.6925, 1.76, 'bcl'), (1.76, 1.785, 'b'), (1.785, 1.8825, 'iy'), (1.8825, 1.9895, 'y'), (1.9895, 2.0775, 'ux'), (2.0775, 2.165, 's'), (2.165, 2.248, 'f'), (2.248, 2.3575, 'el'), (2.3575, 2.495, 'h#')]\n"
     ]
    }
   ],
   "source": [
    "print(alignment)\n",
    "print('\\n Ground Truth \\n')\n",
    "print([(s/16000,e/16000,p) for s,e,p in zip(sample['phonetic_detail']['start'],sample['phonetic_detail']['stop'],sample['phonetic_detail']['utterance'])])"
   ]
  },
  {
   "cell_type": "code",
   "execution_count": 47,
   "metadata": {
    "colab": {
     "base_uri": "https://localhost:8080/"
    },
    "id": "gJkF2z91ROc5",
    "outputId": "1b2c838d-b794-489e-aacd-7cccb149fb81"
   },
   "outputs": [],
   "source": [
    "# save alignment\n",
    "charsiu.serve(audio=audio_path,text=text,save_to='./local/sample.TextGrid')"
   ]
  },
  {
   "cell_type": "markdown",
   "metadata": {
    "id": "swtLnWRlvTdr"
   },
   "source": [
    "## Forced alignment with a neural forced alignment model"
   ]
  },
  {
   "cell_type": "code",
   "execution_count": 48,
   "metadata": {
    "colab": {
     "base_uri": "https://localhost:8080/"
    },
    "id": "tHhEVix-ugEU",
    "outputId": "882770bc-cc54-456f-de6f-d8cbf71bc25c"
   },
   "outputs": [
    {
     "name": "stdout",
     "output_type": "stream",
     "text": [
      "Text transcription:Would such an act of refusal be useful?\n",
      "Audio path: /home/prad/.cache/huggingface/datasets/downloads/extracted/dbcaf91befa46eaa0a2429c0ae995be3ece51313efbb4cdcdcd68994131e815e/data/TRAIN/DR4/MMDM0/SI681.WAV\n"
     ]
    }
   ],
   "source": [
    "# load data\n",
    "sample = timit['train'][0]\n",
    "text = sample['text']\n",
    "audio_path = sample['file']\n",
    "print('Text transcription:%s'%(text))\n",
    "print('Audio path: %s'%audio_path)"
   ]
  },
  {
   "cell_type": "code",
   "execution_count": 5,
   "metadata": {
    "id": "8mKL4RzfuP2a"
   },
   "outputs": [
    {
     "name": "stderr",
     "output_type": "stream",
     "text": [
      "Special tokens have been added in the vocabulary, make sure the associated word embeddings are fine-tuned or trained.\n",
      "/home/prad/anaconda3/envs/alignment/lib/python3.7/site-packages/transformers/configuration_utils.py:359: UserWarning: Passing `gradient_checkpointing` to a config initialization is deprecated and will be removed in v5 Transformers. Using `model.gradient_checkpointing_enable()` instead, or if you are using the `Trainer` API, pass `gradient_checkpointing=True` in your `TrainingArguments`.\n",
      "  \"Passing `gradient_checkpointing` to a config initialization is deprecated and will be removed in v5 \"\n"
     ]
    }
   ],
   "source": [
    "# intialize model\n",
    "charsiu = charsiu_attention_aligner('charsiu/en_w2v2_fs_10ms')"
   ]
  },
  {
   "cell_type": "code",
   "execution_count": 6,
   "metadata": {
    "id": "m-SpQfeIvnBu"
   },
   "outputs": [],
   "source": [
    "alignment = charsiu.align(audio=audio_path,text=text)"
   ]
  },
  {
   "cell_type": "code",
   "execution_count": 7,
   "metadata": {},
   "outputs": [
    {
     "data": {
      "text/plain": [
       "[(0.0, 0.11, '[SIL]'),\n",
       " (0.11, 0.15, 'W'),\n",
       " (0.15, 0.2, 'UH'),\n",
       " (0.2, 0.27, 'D'),\n",
       " (0.27, 0.38, 'S'),\n",
       " (0.38, 0.49, 'AH'),\n",
       " (0.49, 0.58, 'CH'),\n",
       " (0.58, 0.63, 'AE'),\n",
       " (0.63, 0.69, 'N'),\n",
       " (0.69, 0.84, 'AE'),\n",
       " (0.84, 0.94, 'K'),\n",
       " (0.94, 1.0, 'T'),\n",
       " (1.0, 1.05, 'AH'),\n",
       " (1.05, 1.12, 'V'),\n",
       " (1.12, 1.18, 'R'),\n",
       " (1.18, 1.24, 'AH'),\n",
       " (1.24, 1.34, 'F'),\n",
       " (1.34, 1.43, 'Y'),\n",
       " (1.43, 1.5, 'UW'),\n",
       " (1.5, 1.58, 'Z'),\n",
       " (1.58, 1.64, 'AH'),\n",
       " (1.64, 1.73, 'L'),\n",
       " (1.73, 1.79, 'B'),\n",
       " (1.79, 1.91, 'IY'),\n",
       " (1.91, 2.01, 'Y'),\n",
       " (2.01, 2.09, 'UW'),\n",
       " (2.09, 2.17, 'S'),\n",
       " (2.17, 2.24, 'F'),\n",
       " (2.24, 2.31, 'AH'),\n",
       " (2.31, 2.4, 'L'),\n",
       " (2.4, 2.48, '[SIL]')]"
      ]
     },
     "execution_count": 7,
     "metadata": {},
     "output_type": "execute_result"
    }
   ],
   "source": [
    "alignment"
   ]
  },
  {
   "cell_type": "code",
   "execution_count": null,
   "metadata": {},
   "outputs": [],
   "source": []
  },
  {
   "cell_type": "code",
   "execution_count": 9,
   "metadata": {
    "colab": {
     "base_uri": "https://localhost:8080/"
    },
    "id": "lbbV0gpuvJW2",
    "outputId": "3dbf4bd3-b36a-44b8-c810-5cfc579958df"
   },
   "outputs": [
    {
     "name": "stdout",
     "output_type": "stream",
     "text": [
      "[(0.0, 0.11, '[SIL]'), (0.11, 0.15, 'W'), (0.15, 0.2, 'UH'), (0.2, 0.27, 'D'), (0.27, 0.38, 'S'), (0.38, 0.5, 'AH'), (0.5, 0.58, 'CH'), (0.58, 0.63, 'AE'), (0.63, 0.69, 'N'), (0.69, 0.83, 'AE'), (0.83, 0.94, 'K'), (0.94, 1.0, 'T'), (1.0, 1.05, 'AH'), (1.05, 1.12, 'V'), (1.12, 1.18, 'R'), (1.18, 1.24, 'AH'), (1.24, 1.34, 'F'), (1.34, 1.43, 'Y'), (1.43, 1.5, 'UW'), (1.5, 1.58, 'Z'), (1.58, 1.64, 'AH'), (1.64, 1.73, 'L'), (1.73, 1.79, 'B'), (1.79, 1.9, 'IY'), (1.9, 2.01, 'Y'), (2.01, 2.08, 'UW'), (2.08, 2.17, 'S'), (2.17, 2.24, 'F'), (2.24, 2.31, 'AH'), (2.31, 2.41, 'L'), (2.41, 2.48, '[SIL]')]\n",
      "\n",
      " Ground Truth \n",
      "\n",
      "[(0.0, 0.1225, 'h#'), (0.1225, 0.154125, 'w'), (0.154125, 0.2175, 'ix'), (0.2175, 0.25, 'dcl'), (0.25, 0.3725, 's'), (0.3725, 0.4675, 'ah'), (0.4675, 0.4925, 'tcl'), (0.4925, 0.5875, 'ch'), (0.5875, 0.6225, 'ix'), (0.6225, 0.6675, 'n'), (0.6675, 0.8425, 'ae'), (0.8425, 0.98, 'kcl'), (0.98, 0.9925, 't'), (0.9925, 1.0575, 'ix'), (1.0575, 1.1435625, 'v'), (1.1435625, 1.180125, 'r'), (1.180125, 1.2175, 'ix'), (1.2175, 1.3576875, 'f'), (1.3576875, 1.40725, 'y'), (1.40725, 1.5025, 'ux'), (1.5025, 1.574375, 'zh'), (1.574375, 1.6925, 'el'), (1.6925, 1.76, 'bcl'), (1.76, 1.785, 'b'), (1.785, 1.8825, 'iy'), (1.8825, 1.9895, 'y'), (1.9895, 2.0775, 'ux'), (2.0775, 2.165, 's'), (2.165, 2.248, 'f'), (2.248, 2.3575, 'el'), (2.3575, 2.495, 'h#')]\n"
     ]
    }
   ],
   "source": [
    "print(alignment)\n",
    "print('\\n Ground Truth \\n')\n",
    "print([(s/16000,e/16000,p) for s,e,p in zip(sample['phonetic_detail']['start'],sample['phonetic_detail']['stop'],sample['phonetic_detail']['utterance'])])"
   ]
  },
  {
   "cell_type": "code",
   "execution_count": 11,
   "metadata": {
    "colab": {
     "base_uri": "https://localhost:8080/"
    },
    "id": "V_Y9eH5KlO4r",
    "outputId": "35419b67-3f65-4b35-8d17-6ea3fb458436"
   },
   "outputs": [
    {
     "name": "stderr",
     "output_type": "stream",
     "text": [
      "/usr/local/lib/python3.7/dist-packages/transformers/models/wav2vec2/modeling_wav2vec2.py:984: UserWarning: __floordiv__ is deprecated, and its behavior will change in a future version of pytorch. It currently rounds toward 0 (like the 'trunc' function NOT 'floor'). This results in incorrect rounding for negative values. To keep the current behavior, use torch.div(a, b, rounding_mode='trunc'), or for actual floor division, use torch.div(a, b, rounding_mode='floor').\n",
      "  return (input_length - kernel_size) // stride + 1\n"
     ]
    },
    {
     "name": "stdout",
     "output_type": "stream",
     "text": [
      "Alignment output has been saved to ./local/sample.TextGrid\n"
     ]
    }
   ],
   "source": [
    "charsiu.serve(audio=audio_path,text=text,save_to='./local/sample.TextGrid')"
   ]
  },
  {
   "cell_type": "code",
   "execution_count": 25,
   "metadata": {},
   "outputs": [
    {
     "name": "stdout",
     "output_type": "stream",
     "text": [
      "Example Longer audio:\n",
      "Text:\t Animal crackers\n",
      "Estimated\n",
      "Ground Truth\n",
      "           0         1    2\n",
      "0   0.000000  0.373479  sil\n",
      "1   0.373479  0.459211  AE1\n",
      "2   0.459211  0.500887    N\n",
      "3   0.500887  0.549706  AH0\n",
      "4   0.549706  0.635438    M\n",
      "5   0.635438  0.680686  AH0\n",
      "6   0.680686  0.754511    L\n",
      "7   0.825954  0.870011    K\n",
      "8   0.870011  0.921212    R\n",
      "9   0.921212  0.997418  AE1\n",
      "10  0.997418  1.162929    K\n",
      "11  1.162929  1.411790  ER0\n",
      "12  1.411790  1.600000    Z\n",
      "13  1.600000  2.010000  sil\n"
     ]
    }
   ],
   "source": [
    "audio_path = '/home/prad/datasets/ChildSpeechDataset/child_speech_16_khz/0407_M_SJ/0407_M_SJs2T05.wav'\n",
    "tg_path = '/home/prad/datasets/ChildSpeechDataset/manually-aligned-text-grids/0407_M_SJ/0407_M_SJs2T05.TextGrid'\n",
    "text = 'Animal crackers'\n",
    "print('Example Longer audio:')\n",
    "print('Text:\\t', text)\n",
    "print('Estimated')\n",
    "alignment = charsiu.align(audio=audio_path, text=text)[0]\n",
    "alignment = pd.DataFrame(alignment)\n",
    "# print(aligned)\n",
    "# print()\n",
    "from alignment_helper_fns import *\n",
    "manual_df = textgridpath_to_phonedf(tg_path, phone_key='ha phones')\n",
    "print('Ground Truth')\n",
    "print(manual_df)"
   ]
  },
  {
   "cell_type": "code",
   "execution_count": 28,
   "metadata": {},
   "outputs": [
    {
     "name": "stdout",
     "output_type": "stream",
     "text": [
      "Example Short Audio\n",
      "Text:\t Dee\n",
      "Estimated\n",
      "      0     1      2\n",
      "0  0.00  0.33  [SIL]\n",
      "1  0.33  0.65      D\n",
      "2  0.65  0.98     IY\n",
      "3  0.98  1.31  [SIL]\n",
      "Ground Truth\n",
      "          0         1    2\n",
      "0  0.000000  0.362614  sil\n",
      "1  0.362614  0.580000    D\n",
      "2  0.580000  0.958831  IY1\n",
      "3  0.958831  1.310000  sil\n"
     ]
    }
   ],
   "source": [
    "audio_path = '/home/prad/datasets/ChildSpeechDataset/child_speech_16_khz/0407_M_SJ/0407_M_SJwT18.wav'\n",
    "tg_path = '/home/prad/datasets/ChildSpeechDataset/manually-aligned-text-grids/0407_M_SJ/0407_M_SJwT18.TextGrid'\n",
    "text = 'Dee'\n",
    "print('Example Short Audio')\n",
    "print('Text:\\t', text)\n",
    "print('Estimated')\n",
    "alignment = charsiu.align(audio=audio_path, text=text)[0]\n",
    "alignment = pd.DataFrame(alignment)\n",
    "print(alignment)\n",
    "print('Ground Truth')\n",
    "manual_df = textgridpath_to_phonedf(tg_path, phone_key='ha phones')\n",
    "print(manual_df)"
   ]
  },
  {
   "cell_type": "code",
   "execution_count": 29,
   "metadata": {},
   "outputs": [],
   "source": [
    "charsiu.serve(audio=audio_path, text=text, save_to='tmp.TextGrid')"
   ]
  },
  {
   "cell_type": "code",
   "execution_count": null,
   "metadata": {},
   "outputs": [],
   "source": []
  }
 ],
 "metadata": {
  "colab": {
   "name": "charsiu_demo.ipynb",
   "provenance": []
  },
  "kernelspec": {
   "display_name": "alignment",
   "language": "python",
   "name": "alignment"
  },
  "language_info": {
   "codemirror_mode": {
    "name": "ipython",
    "version": 3
   },
   "file_extension": ".py",
   "mimetype": "text/x-python",
   "name": "python",
   "nbconvert_exporter": "python",
   "pygments_lexer": "ipython3",
   "version": "3.7.12"
  }
 },
 "nbformat": 4,
 "nbformat_minor": 4
}
