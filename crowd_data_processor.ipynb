{
 "cells": [
  {
   "cell_type": "code",
   "execution_count": 1,
   "id": "5829bf6d-ab75-4ef3-ad3a-6eeda5515d16",
   "metadata": {},
   "outputs": [],
   "source": [
    "import pickle as pkl\n",
    "import librosa\n",
    "import numpy as np\n",
    "import matplotlib.pyplot as plt\n",
    "import pandas as pd\n",
    "import os\n",
    "import soundfile as sf\n",
    "import tqdm\n",
    "audio_dir = './data/crowd/crowd_audio'\n",
    "alignment_dir = './data/crowd/crowd_aligned'"
   ]
  },
  {
   "cell_type": "code",
   "execution_count": 2,
   "id": "1b5384af-5b5b-48b7-82ab-1ea8cca74367",
   "metadata": {},
   "outputs": [],
   "source": [
    "crowd_data = pkl.load(open('./data/crowd/crowd_audio.pkl', 'rb'))"
   ]
  },
  {
   "cell_type": "code",
   "execution_count": 3,
   "id": "4964b812-0b54-4cf1-a984-eee167099012",
   "metadata": {},
   "outputs": [
    {
     "name": "stderr",
     "output_type": "stream",
     "text": [
      "/home/prad/anaconda3/envs/alignment/lib/python3.7/site-packages/IPython/core/interactiveshell.py:3524: DtypeWarning: Columns (5,50,51,52,53,54,55,56,57,58,59,60,62,63,64,65,66,67,68,69,73,126,127,128,129,130,131,132,133,134,135,136,137,138,139,140,141,142,143,144,145,146,150,151,152,153,154,169,170,171,172,173,174,335,336,338,339,340,341,342,343,344,345,354,355,356,357,358,359,360,361,362,363,364,365,366,367,368,369,371,372,373,374,375,376,377,378,379,380,381,382,383,384,385,386,387,388,389,390,391,392,393,394,395,396,397,398,399,400,401,402,403,404,414,415,416,417,418,419,420,421,422,423,424,425,426,427,428,429,430,431,432,433,434,435,436,437,438,439,440,450,451,452,453,454,455,456,457,458,459,460,461,462,463,466,467,468,469,470,471,472,473,474,475,476,477,478,479,480,481,482,483,484,485,486,579,580,581,583,584,586,587,589) have mixed types.Specify dtype option on import or set low_memory=False.\n",
      "  exec(code_obj, self.user_global_ns, self.user_ns)\n"
     ]
    }
   ],
   "source": [
    "df = pd.read_csv('./data/dataset_files/crowd-source__asr_2021-11-08__final__ALL.csv')\n",
    "dnndf = pd.read_csv('./data/dataset_files/DNN.csv')\n",
    "crowd_df = df[df['steps.stepCategory']=='sentence']\n",
    "dnncrowd = dnndf[dnndf['sample'].isin(['crowd', 'crowd_issue'])]\n",
    "dnnids = list(dnncrowd['File_id'])\n",
    "crowd_df = crowd_df[crowd_df['steps.participantId'].isin(dnnids)]"
   ]
  },
  {
   "cell_type": "code",
   "execution_count": 4,
   "id": "55dc6358-bdc6-4f5c-82ed-fd4012ae12b1",
   "metadata": {},
   "outputs": [],
   "source": [
    "crowd_pids = list(crowd_data.keys())"
   ]
  },
  {
   "cell_type": "code",
   "execution_count": 5,
   "id": "7f867222-1755-4403-b0e7-46444b803ed8",
   "metadata": {
    "tags": []
   },
   "outputs": [
    {
     "name": "stderr",
     "output_type": "stream",
     "text": [
      "100%|█████████████████████████████████████████████████████████████████████████████████████████████████████████████████████████████████| 231/231 [00:05<00:00, 45.39it/s]\n"
     ]
    }
   ],
   "source": [
    "lens = []\n",
    "for pid in tqdm.tqdm(crowd_pids):\n",
    "    pid_dict = crowd_data[pid]\n",
    "    steps = list(pid_dict.keys())\n",
    "    # print(steps)\n",
    "    # print(pid_dict['29'])\n",
    "    for step in steps:\n",
    "        pid_dir = os.path.join(audio_dir, pid)\n",
    "        if not os.path.exists(pid_dir):\n",
    "            os.makedirs(pid_dir, exist_ok=True)\n",
    "        audiofilename = os.path.join(audio_dir, pid, pid + '-' + str(step) + '.wav')\n",
    "        transcript_filename = os.path.join(audio_dir, pid, pid + '-' + str(step) + '.lab')\n",
    "        stepdata = pid_dict[step]\n",
    "        audio = stepdata['audio']\n",
    "        lens.append(len(audio))\n",
    "        transcript = stepdata['transcript']\n",
    "        sf.write(audiofilename, audio, 16000)\n",
    "        f = open(transcript_filename, 'w')\n",
    "        f.write(transcript)\n",
    "        f.close()"
   ]
  },
  {
   "cell_type": "code",
   "execution_count": 13,
   "id": "4ba1c75d-ee59-426c-8cf0-300671892df1",
   "metadata": {},
   "outputs": [
    {
     "data": {
      "text/plain": [
       "(array([  1.,   0.,   3.,  64., 206., 369., 188., 157.,  97.,  43.,   7.,\n",
       "          7.,   6.,   3.,   1.,   0.,   1.,   0.,   0.,   2.]),\n",
       " array([ 1.024     ,  1.77493437,  2.52586875,  3.27680312,  4.0277375 ,\n",
       "         4.77867187,  5.52960625,  6.28054062,  7.031475  ,  7.78240937,\n",
       "         8.53334375,  9.28427813, 10.0352125 , 10.78614688, 11.53708125,\n",
       "        12.28801562, 13.03895   , 13.78988437, 14.54081875, 15.29175312,\n",
       "        16.0426875 ]),\n",
       " <BarContainer object of 20 artists>)"
      ]
     },
     "execution_count": 13,
     "metadata": {},
     "output_type": "execute_result"
    },
    {
     "data": {
      "image/png": "[encoded data removed]",
      "text/plain": [
       "<Figure size 432x288 with 1 Axes>"
      ]
     },
     "metadata": {
      "needs_background": "light"
     },
     "output_type": "display_data"
    }
   ],
   "source": [
    "plt.hist(np.array(lens)/16000, bins=20)"
   ]
  },
  {
   "cell_type": "code",
   "execution_count": 14,
   "id": "8b9c4608-ce07-4278-8025-52e6406d9840",
   "metadata": {},
   "outputs": [
    {
     "name": "stderr",
     "output_type": "stream",
     "text": [
      "Special tokens have been added in the vocabulary, make sure the associated word embeddings are fine-tuned or trained.\n",
      "/home/prad/anaconda3/envs/alignment/lib/python3.7/site-packages/transformers/configuration_utils.py:359: UserWarning: Passing `gradient_checkpointing` to a config initialization is deprecated and will be removed in v5 Transformers. Using `model.gradient_checkpointing_enable()` instead, or if you are using the `Trainer` API, pass `gradient_checkpointing=True` in your `TrainingArguments`.\n",
      "  \"Passing `gradient_checkpointing` to a config initialization is deprecated and will be removed in v5 \"\n"
     ]
    }
   ],
   "source": [
    "from gop_helper_fns import *"
   ]
  },
  {
   "cell_type": "code",
   "execution_count": 15,
   "id": "62b22e22-a92d-45ca-9216-9b1f164ff730",
   "metadata": {},
   "outputs": [
    {
     "name": "stderr",
     "output_type": "stream",
     "text": [
      "100%|█████████████████████████████████████████████████████████████████████████████████████████████████████████████████████████████████████████████████████████████████████████████████████████████████████████████████████| 231/231 [03:14<00:00,  1.19it/s]\n"
     ]
    }
   ],
   "source": [
    "import time\n",
    "session_artp_validation_dict = {}\n",
    "crowd_artp_dictpath = './crowd_artps.pkl'\n",
    "\n",
    "for pid in tqdm.tqdm(crowd_pids):\n",
    "    pid_dict = crowd_data[pid]\n",
    "    steps = list(pid_dict.keys())\n",
    "    session_artp_validation_dict[pid] = {}\n",
    "    for step in steps:\n",
    "        audio_filename = os.path.join(audio_dir, pid, pid + '-' + str(step) + '.wav')\n",
    "        alignment_file = os.path.join(alignment_dir, 'crowd-audio-' + pid + '-' + str(step) + '.TextGrid')\n",
    "        stepdata = pid_dict[step]\n",
    "        transcript = stepdata['transcript']\n",
    "        try:\n",
    "            __, step_artp = calculate_GOP_e2e(audio=audio_filename, transcript=transcript, textgrid_alignment=alignment_file)\n",
    "            session_artp_validation_dict[pid][step] = step_artp\n",
    "        except:\n",
    "            session_artp_validation_dict[pid][step] = np.nan\n",
    "        # print(pid, step, step_artp)\n",
    "        time.sleep(.01)\n",
    "pkl.dump(session_artp_validation_dict, open(crowd_artp_dictpath, 'wb'))"
   ]
  },
  {
   "cell_type": "code",
   "execution_count": null,
   "id": "bb1cbfce-a852-48c8-8051-36974b009de3",
   "metadata": {},
   "outputs": [],
   "source": []
  },
  {
   "cell_type": "code",
   "execution_count": 60,
   "id": "cef3a064-892e-4129-a275-cbf0d8ebc567",
   "metadata": {},
   "outputs": [
    {
     "name": "stdout",
     "output_type": "stream",
     "text": [
      "1\n",
      "5\n",
      "0\n",
      "5\n"
     ]
    }
   ],
   "source": [
    "def add(a, b, **kwargs):\n",
    "    sumval = a+b\n",
    "    # for arg in kwargs.values():\n",
    "    print(len(kwargs))\n",
    "    return sumval\n",
    "print(add(2, 3, c=5))\n",
    "print(add(2, 3))"
   ]
  },
  {
   "cell_type": "code",
   "execution_count": null,
   "id": "0629ca67-15c4-41d3-b1d3-d758ada5ee30",
   "metadata": {},
   "outputs": [],
   "source": [
    "participantids = dnncrowd['File_id']\n",
    "df_partids = np.array(list(crowd_df['session.participantId']))\n",
    "artps_array = np.zeros([len(df_partids), 5])\n",
    "steps = stepid_to_transcript.keys()\n",
    "results_dict = './crowd_validation_artps_w2v_fixed.pkl'\n",
    "\n",
    "if not os.path.exists(results_dict):\n",
    "    session_artp_validation_dict = {}\n",
    "    for ii, pid in tqdm.tqdm(enumerate(participantids)):\n",
    "        session_artp_validation_dict[pid] = {}\n",
    "        inds = np.argwhere(df_partids==pid).ravel()\n",
    "        _sessid = crowd_df.iloc[inds]['session.sessionId'].iloc[0]\n",
    "        # _sessidz = \n",
    "        for jj, _prompt_substr in enumerate(prompt_substrings)\n"
   ]
  },
  {
   "cell_type": "code",
   "execution_count": null,
   "id": "00a5191e-35fa-4ed6-90f4-69837b7364ce",
   "metadata": {},
   "outputs": [],
   "source": []
  }
 ],
 "metadata": {
  "kernelspec": {
   "display_name": "alignment",
   "language": "python",
   "name": "alignment"
  },
  "language_info": {
   "codemirror_mode": {
    "name": "ipython",
    "version": 3
   },
   "file_extension": ".py",
   "mimetype": "text/x-python",
   "name": "python",
   "nbconvert_exporter": "python",
   "pygments_lexer": "ipython3",
   "version": "3.7.12"
  }
 },
 "nbformat": 4,
 "nbformat_minor": 5
}
