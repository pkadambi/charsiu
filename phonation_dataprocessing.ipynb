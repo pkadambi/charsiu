{
 "cells": [
  {
   "cell_type": "code",
   "execution_count": 1,
   "id": "047b4f0d-4c44-46a6-8a82-054e5878f937",
   "metadata": {},
   "outputs": [],
   "source": [
    "import pandas as pd\n",
    "import numpy as np\n",
    "import os\n",
    "from alignment_helper_fns import textgridpath_to_phonedf, get_all_textgrids_in_directory"
   ]
  },
  {
   "cell_type": "code",
   "execution_count": 20,
   "id": "1cbfbf2b-71a6-4252-80c6-2437fda53105",
   "metadata": {},
   "outputs": [
    {
     "name": "stdout",
     "output_type": "stream",
     "text": [
      "Extracting all textgrids in directory:\t ./results/phonation_baseline_frame\n"
     ]
    },
    {
     "name": "stderr",
     "output_type": "stream",
     "text": [
      "1it [00:00, 1233.98it/s]\n"
     ]
    }
   ],
   "source": [
    "df = pd.read_csv('./for_yan.csv')\n",
    "phonation_dataset_path = '/home/prad/datasets/phonation_data'\n",
    "\n",
    "estimated_tgs = get_all_textgrids_in_directory('./results/phonation_baseline_frame')\n",
    "estimated_phone_dfs = [textgridpath_to_phonedf(tgpath, phone_key='phones', replace_silence=False) for tgpath in estimated_tgs]\n",
    "audio_paths = [os.path.join(phonation_dataset_path, tgname.split('/')[-1][:-8]+'wav') for tgname in estimated_tgs]"
   ]
  },
  {
   "cell_type": "code",
   "execution_count": 63,
   "id": "b9689c0a-5ace-4ec6-9f8c-5fb377622989",
   "metadata": {},
   "outputs": [
    {
     "data": {
      "text/plain": [
       "(240, 59)"
      ]
     },
     "execution_count": 63,
     "metadata": {},
     "output_type": "execute_result"
    }
   ],
   "source": [
    "df.shape"
   ]
  },
  {
   "cell_type": "code",
   "execution_count": 3,
   "id": "53d28473-529f-4437-9cf8-0896b6f9ed41",
   "metadata": {},
   "outputs": [
    {
     "name": "stdout",
     "output_type": "stream",
     "text": [
      "Loading audio files\n"
     ]
    },
    {
     "name": "stderr",
     "output_type": "stream",
     "text": [
      "100%|███████████████████████████████████████████████████████████████████████████████████████████████████████████████████████████████████████████████████████████████████████████████████████████████████████████████| 168/168 [00:00<00:00, 1294.31it/s]\n"
     ]
    },
    {
     "name": "stdout",
     "output_type": "stream",
     "text": [
      "\n",
      "Extracting transcripts, phone and word bounds\n"
     ]
    },
    {
     "name": "stderr",
     "output_type": "stream",
     "text": [
      "100%|████████████████████████████████████████████████████████████████████████████████████████████████████████████████████████████████████████████████████████████████████████████████████████████████████████████| 168/168 [00:00<00:00, 3104154.50it/s]\n"
     ]
    },
    {
     "name": "stdout",
     "output_type": "stream",
     "text": [
      "Extracting Framewise Labels\n"
     ]
    },
    {
     "name": "stderr",
     "output_type": "stream",
     "text": [
      "100%|█████████████████████████████████████████████████████████████████████████████████████████████████████████████████████████████████████████████████████████████████████████████████████████████████████████████████| 168/168 [00:02<00:00, 60.17it/s]\n"
     ]
    },
    {
     "data": {
      "text/plain": [
       "<phonation_dataset.PhonationDataset at 0x7f20f6846550>"
      ]
     },
     "execution_count": 3,
     "metadata": {},
     "output_type": "execute_result"
    }
   ],
   "source": [
    "from phonation_dataset import *\n",
    "tg_dir = phonation_dataset_path+'/extracted_manual_textgrids'\n",
    "PhonationDataset(audio_paths=audio_paths, lables_df=df, textgrids_dir=tg_dir)"
   ]
  },
  {
   "cell_type": "code",
   "execution_count": 5,
   "id": "c1135b9b-3063-4b39-ac06-7e1e60591c4d",
   "metadata": {},
   "outputs": [
    {
     "data": {
      "text/plain": [
       "Index(['sessionStepId', 'session.sessionId', 'steps.stepId', 'steps.filePath',\n",
       "       'steps.stepCategory', 'steps.prompt', 'start_time_groundtruth',\n",
       "       'end_time_groundtruth', 'session.sessionScriptId', 'steps.name',\n",
       "       'steps.sequenceNumber', 'steps.elicitType', 'session.language',\n",
       "       'sessionId', 'stepId', 'RatePhonationStepMaxVoicedDuration',\n",
       "       'RatePhonationStepMaxVoicedDurationNoAmbient',\n",
       "       'RatePhonationStepPauseCount', 'RatePhonationStepPauseCountNoAmbient',\n",
       "       'RatePhonationStepPauseMean', 'RatePhonationStepPauseMeanNoAmbient',\n",
       "       'RatePhonationStepPausePercent',\n",
       "       'RatePhonationStepPausePercentNoAmbient',\n",
       "       'RatePhonationStepSpeechEndTime',\n",
       "       'RatePhonationStepSpeechEndTimeNoAmbient',\n",
       "       'RatePhonationStepSpeechStartTime',\n",
       "       'RatePhonationStepSpeechStartTimeNoAmbient',\n",
       "       'RatePhonationStepSpeechTotalDuration',\n",
       "       'RatePhonationStepSpeechTotalDurationNoAmbient',\n",
       "       'RatePhonationStepTotalVoicedDuration',\n",
       "       'RatePhonationStepTotalVoicedDurationNoAmbient',\n",
       "       'RateSentenceStepArticulationSpeed',\n",
       "       'RateSentenceStepArticulationSpeedNoAmbient',\n",
       "       'RateSentenceStepMaxVoicedDuration',\n",
       "       'RateSentenceStepMaxVoicedDurationNoAmbient',\n",
       "       'RateSentenceStepPauseCount', 'RateSentenceStepPauseCountNoAmbient',\n",
       "       'RateSentenceStepPauseMean', 'RateSentenceStepPauseMeanNoAmbient',\n",
       "       'RateSentenceStepPausePercent', 'RateSentenceStepPausePercentNoAmbient',\n",
       "       'RateSentenceStepSpeechEndTime',\n",
       "       'RateSentenceStepSpeechEndTimeNoAmbient', 'RateSentenceStepSpeechSpeed',\n",
       "       'RateSentenceStepSpeechSpeedNoAmbient',\n",
       "       'RateSentenceStepSpeechStartTime',\n",
       "       'RateSentenceStepSpeechStartTimeNoAmbient',\n",
       "       'RateSentenceStepTotalSpeechDuration',\n",
       "       'RateSentenceStepTotalSpeechDurationNoAmbient',\n",
       "       'RateSentenceStepTotalVoicedDuration',\n",
       "       'RateSentenceStepTotalVoicedDurationNoAmbient', 'asr_engine_aws',\n",
       "       'asr_start_time_aws', 'asr_end_time_aws', 'transcript_aws',\n",
       "       'asr_engine_google', 'asr_start_time_google', 'asr_end_time_google',\n",
       "       'transcript_google'],\n",
       "      dtype='object')"
      ]
     },
     "execution_count": 5,
     "metadata": {},
     "output_type": "execute_result"
    }
   ],
   "source": [
    "tdf = pd.DataFrame({'col1': [1, 2, 3], 'col2': [4, 5, 6]})\n",
    "# list(tdf[idx].to_records(index=False))\n",
    "df.columns"
   ]
  },
  {
   "cell_type": "code",
   "execution_count": 5,
   "id": "5ac1c9da-49c3-4a15-b408-853f1399c8db",
   "metadata": {},
   "outputs": [],
   "source": [
    "from phonation_dataset import *\n",
    "# PhonationDataset(audio_paths=audio_paths, lables_df=df, textgrids_dir='/home/prad/datasets/phonation_data/extracted_manual_textgrids')"
   ]
  },
  {
   "cell_type": "code",
   "execution_count": null,
   "id": "0b5a263e-92fe-4a97-893b-a7ea88a9d113",
   "metadata": {},
   "outputs": [],
   "source": []
  },
  {
   "cell_type": "code",
   "execution_count": null,
   "id": "1572da4b-e2c6-439e-8197-d4fd5e2fb323",
   "metadata": {},
   "outputs": [],
   "source": []
  },
  {
   "cell_type": "code",
   "execution_count": null,
   "id": "eb327b3b-c49a-499e-8e6d-d9af41535f90",
   "metadata": {},
   "outputs": [],
   "source": []
  },
  {
   "cell_type": "code",
   "execution_count": 7,
   "id": "4cdc1191-55cd-406e-9eb4-04a7e62a1646",
   "metadata": {},
   "outputs": [
    {
     "data": {
      "text/plain": [
       "(0.26191, 21.54974)"
      ]
     },
     "execution_count": 7,
     "metadata": {},
     "output_type": "execute_result"
    }
   ],
   "source": [
    "def get_startend_from_audiopath(audiopath, datadf):\n",
    "    sessid = audiopath.split('/')[-1][:-4]\n",
    "    return get_startend_time_from_sessid(sessid, datadf)\n",
    "def get_startend_time_from_sessid(sessid, datadf, sessid_key='sessionStepId'):\n",
    "    # sess_index = \n",
    "    row = datadf.iloc[np.argwhere(sessid==datadf[sessid_key].values).ravel()]\n",
    "    return float(row['start_time_groundtruth']), float(row['end_time_groundtruth'])\n",
    "    \n",
    "# print(df.iloc[np.argwhere(audio_paths[idx].split('/')[-1][:-4]==df['sessionStepId'].values).ravel()])\n",
    "get_startend_from_audiopath(audio_paths[idx], datadf=df)"
   ]
  },
  {
   "cell_type": "code",
   "execution_count": 16,
   "id": "77cdff32-f381-4c38-b7f2-950cbd2a313e",
   "metadata": {},
   "outputs": [],
   "source": [
    "idxs = list(np.argwhere(df['RatePhonationStepPauseCount'].values!=0))"
   ]
  },
  {
   "cell_type": "code",
   "execution_count": 21,
   "id": "05a8c990-e063-495b-b372-10000b77ed9c",
   "metadata": {},
   "outputs": [
    {
     "name": "stdout",
     "output_type": "stream",
     "text": [
      "170\n",
      "38\n",
      "(240, 59)\n",
      "Extracting all textgrids in directory:\t ./results/phonation_baseline_frame\n"
     ]
    },
    {
     "name": "stderr",
     "output_type": "stream",
     "text": [
      "1it [00:00, 593.67it/s]"
     ]
    },
    {
     "name": "stdout",
     "output_type": "stream",
     "text": [
      "106\n",
      "Num Pauses: 0.0\n",
      "./results/phonation_baseline_frame/1042-20171216-0947-7.TextGrid\n",
      "(0.51795, 12.29527)\n",
      "/home/prad/datasets/phonation_data/1042-20171216-0947-7.wav\n",
      "       0      1      2\n",
      "0   0.00   0.52  [SIL]\n",
      "1   0.52  12.28     AA\n",
      "2  12.28  15.40  [SIL]\n"
     ]
    },
    {
     "name": "stderr",
     "output_type": "stream",
     "text": [
      "\n"
     ]
    }
   ],
   "source": [
    " \n",
    "phonation_dataset_path = '/home/prad/datasets/phonation_data'\n",
    "df['steps.filePath'] = [os.path.join(phonation_dataset_path, filename.split('/')[-1]) for filename in df['steps.filePath']]\n",
    "pause_colname = 'RatePhonationStepPauseCount'\n",
    "print(sum(df['RatePhonationStepPauseCount']==0.))\n",
    "print(sum(df['RatePhonationStepPauseCount']==1.))\n",
    "print(df.shape)\n",
    "end_time_key = 'RatePhonationStepSpeechEndTimeNoAmbient'\n",
    "start_time_key = 'RatePhonationStepSpeechStartTime'\n",
    "\n",
    "\n",
    "idx = 30\n",
    "estimated_tgs = get_all_textgrids_in_directory('./results/phonation_baseline_frame')\n",
    "idx = int(np.argwhere(['1042-20171216-0947-7' in tg for tg in estimated_tgs]))\n",
    "print(idx)\n",
    "estimated_phone_dfs = [textgridpath_to_phonedf(tgpath, phone_key='phones', replace_silence=False) for tgpath in estimated_tgs]\n",
    "audio_paths = [os.path.join(phonation_dataset_path, tgname.split('/')[-1][:-8]+'wav') for tgname in estimated_tgs]\n",
    "print('Num Pauses:', df['RatePhonationStepPauseCount'][idx])\n",
    "print(estimated_tgs[idx])\n",
    "print(get_startend_from_audiopath(audio_paths[idx], datadf=df))\n",
    "print(audio_paths[idx])\n",
    "print(estimated_phone_dfs[idx])\n",
    "# print(df[np.argwhere(audio_paths[idx].split('/')[-1][:-3] in df['sessionStepId'])])\n"
   ]
  },
  {
   "cell_type": "code",
   "execution_count": 30,
   "id": "3e8b4f32-9375-4c4f-a118-f054cdde62e6",
   "metadata": {},
   "outputs": [
    {
     "data": {
      "text/plain": [
       "[]"
      ]
     },
     "execution_count": 30,
     "metadata": {},
     "output_type": "execute_result"
    }
   ],
   "source": [
    "paused_estimated_tgs"
   ]
  },
  {
   "cell_type": "code",
   "execution_count": null,
   "id": "9f5013a4-d55b-42f4-93b7-66f14cdde5f5",
   "metadata": {},
   "outputs": [],
   "source": [
    "any([paused_sessids[0] in _tg for _tg in estimated_tgs])\n",
    "print(paused_sessids[0])\n",
    "print(len(estimated_tgs))\n",
    "print(estimated_tgs)\n"
   ]
  },
  {
   "cell_type": "code",
   "execution_count": 62,
   "id": "5c4fbd0b-cbd5-42b6-ab06-3eee164c673c",
   "metadata": {},
   "outputs": [
    {
     "name": "stdout",
     "output_type": "stream",
     "text": [
      "Extracting all textgrids in directory:\t ./results/phonation_baseline_frame\n"
     ]
    },
    {
     "name": "stderr",
     "output_type": "stream",
     "text": [
      "1it [00:00, 760.39it/s]"
     ]
    },
    {
     "name": "stdout",
     "output_type": "stream",
     "text": [
      "0\n",
      "Num Pauses: 1.0\n",
      "./results/phonation_baseline_frame/5022-031089-03-20181126-0049-10.TextGrid\n",
      "(1.54327, 19.10958)\n",
      "/home/prad/datasets/phonation_data/5022-001008-13-20180821-0747-10.wav\n",
      "       0      1      2\n",
      "0   0.00   1.54  [SIL]\n",
      "1   1.54   8.48     AA\n",
      "2   8.48   8.85  [SIL]\n",
      "3   8.85  19.05     AA\n",
      "4  19.05  20.51  [SIL]\n"
     ]
    },
    {
     "name": "stderr",
     "output_type": "stream",
     "text": [
      "\n"
     ]
    }
   ],
   "source": [
    "phonation_dataset_path = '/home/prad/datasets/phonation_data'\n",
    "df['steps.filePath'] = [os.path.join(phonation_dataset_path, filename.split('/')[-1]) for filename in df['steps.filePath']]\n",
    "pause_colname = 'RatePhonationStepPauseCount'\n",
    "end_time_key = 'RatePhonationStepSpeechEndTimeNoAmbient'\n",
    "start_time_key = 'RatePhonationStepSpeechStartTime'\n",
    "\n",
    "# idx = 30\n",
    "paused_df = df[df[pause_colname]!=0]\n",
    "paused_df = paused_df.reset_index()\n",
    "# paused_df = paused_df['sessionStepId']\n",
    "paused_sessids = list(paused_df['sessionStepId'].values)\n",
    "estimated_tgs = get_all_textgrids_in_directory('./results/phonation_baseline_frame')\n",
    "paused_estimated_tgs = [tg for tg in estimated_tgs if any([psid in tg for psid in paused_sessids])]\n",
    "# idx = int(np.argwhere(['1042- in tg for tg in estimated_tgs]))\n",
    "idx = 0\n",
    "print(idx)\n",
    "estimated_phone_dfs = [textgridpath_to_phonedf(tgpath, phone_key='phones', replace_silence=False) for tgpath in paused_estimated_tgs]\n",
    "audio_paths = [os.path.join(phonation_dataset_path, tgname.split('/')[-1][:-8]+'wav') for tgname in paused_estimated_tgs]\n",
    "print('Num Pauses:', paused_df['RatePhonationStepPauseCount'][idx])\n",
    "print(estimated_tgs[idx])\n",
    "print(get_startend_from_audiopath(audio_paths[idx], datadf=paused_df))\n",
    "print(audio_paths[idx])\n",
    "print(estimated_phone_dfs[idx])\n",
    "# print(df[np.argwhere(audio_paths[idx].split('/')[-1][:-3] in df['sessionStepId'])])"
   ]
  },
  {
   "cell_type": "code",
   "execution_count": 10,
   "id": "cbc0af3b-e1d9-470d-a9cd-3b516b5724e5",
   "metadata": {},
   "outputs": [
    {
     "data": {
      "text/plain": [
       "(0.0, 29.814)"
      ]
     },
     "execution_count": 10,
     "metadata": {},
     "output_type": "execute_result"
    }
   ],
   "source": []
  },
  {
   "cell_type": "code",
   "execution_count": null,
   "id": "f6c76d55-3fd2-429a-a210-a68464d938b3",
   "metadata": {},
   "outputs": [],
   "source": []
  },
  {
   "cell_type": "code",
   "execution_count": null,
   "id": "3dff9c03-2cec-498a-92dd-6d46b01cca22",
   "metadata": {},
   "outputs": [],
   "source": []
  },
  {
   "cell_type": "code",
   "execution_count": null,
   "id": "f965a6a3-11dc-46d5-84c8-ea3524016fef",
   "metadata": {},
   "outputs": [],
   "source": []
  },
  {
   "cell_type": "code",
   "execution_count": null,
   "id": "39283a41-8c94-4ded-b444-24a94c7b33c8",
   "metadata": {},
   "outputs": [],
   "source": []
  },
  {
   "cell_type": "code",
   "execution_count": 132,
   "id": "202e3eb5-7c38-4db8-b44d-38d566308d97",
   "metadata": {},
   "outputs": [
    {
     "name": "stderr",
     "output_type": "stream",
     "text": [
      "/home/prad/anaconda3/envs/alignment/lib/python3.7/site-packages/ipykernel_launcher.py:25: VisibleDeprecationWarning: Creating an ndarray from ragged nested sequences (which is a list-or-tuple of lists-or-tuples-or ndarrays with different lengths or shapes) is deprecated. If you meant to do this, you must specify 'dtype=object' when creating the ndarray.\n"
     ]
    }
   ],
   "source": [
    "import pandas as pd\n",
    "import numpy as np\n",
    "import os\n",
    "from alignment_helper_fns import textgridpath_to_phonedf, get_all_textgrids_in_directory\n",
    "\n",
    "\n",
    "df = pd.read_csv('./phone_annotations_prad.csv')\n",
    "phonation_dataset_path = '/home/prad/datasets/phonation_data'\n",
    "df = df[~pd.isna(df['start_time_groundtruth'])]\n",
    "estimated_tgs_path = '/home/prad/github/charsiu/results/phonation_nopause_trained_frame'\n",
    "manual_tgs_path = '/home/prad/datasets/phonation_data/extracted_manual_textgrids'\n",
    "hold_out_inds = np.argwhere(df['RatePhonationStepPauseCount'].values!=0).ravel()\n",
    "\n",
    "df = df.reset_index()\n",
    "df = df.iloc[hold_out_inds, :]\n",
    "df = df[df['PradPause']==0]\n",
    "df = df[pd.isna(df['PradFlag'])]\n",
    "df = df.reset_index()\n",
    "\n",
    "# estimated_tgs = get_all_textgrids_in_directory('./results/phonation_baseline_frame')\n",
    "tg_filenames = [sessid+'.TextGrid' for sessid in list(df['sessionStepId'].values)]\n",
    "estimated_tgs = [os.path.join(estimated_tgs_path, tgfname) for tgfname in tg_filenames]\n",
    "manual_tgs = [os.path.join(manual_tgs_path, tgfname) for tgfname in tg_filenames]\n",
    "manual_phone_dfs = np.array([textgridpath_to_phonedf(tgpath, phone_key='phones', replace_silence=False) for tgpath in manual_tgs])\n",
    "estimated_phone_dfs = np.array([textgridpath_to_phonedf(tgpath, phone_key='phones', replace_silence=False) for tgpath in estimated_tgs])\n",
    "audio_files = [os.path.join(phonation_dataset_path, tgfile.split('/')[-1].split('.')[0]+'.wav') for tgfile in tg_filenames]\n",
    "import traceback\n",
    "\n",
    "manual_phone_dfs = []\n",
    "estimated_phone_dfs = []\n",
    "for ii in range(len(manual_tgs)):\n",
    "\n",
    "    manual_tg = manual_tgs[ii]\n",
    "    estimated_tg = estimated_tgs[ii]\n",
    "\n",
    "    try:\n",
    "        manual_phone_dfs.append(textgridpath_to_phonedf(manual_tg, phone_key='phones', replace_silence=False))\n",
    "        estimated_phone_dfs.append(textgridpath_to_phonedf(estimated_tg, phone_key='phones', replace_silence=False))\n",
    "    except Exception:\n",
    "        print('-------------------------------------------------')\n",
    "        print('Error with tg files:\\t', manual_tg, estimated_tg)\n",
    "        print('Audio:\\t')\n",
    "        print(\"They're probably empty\")\n",
    "        traceback.print_exc()\n",
    "\n",
    "mystart_times = df['PradStart'].values\n",
    "yanstart_times = df['start_time_groundtruth'].values\n",
    "estim_start_times = np.array([edf.iloc[1,0] for edf in estimated_phone_dfs])\n",
    "\n",
    "myendtimes = df['PradEnd'].values\n",
    "yanendtimes = df['end_time_groundtruth'].values\n",
    "estim_end_times = np.array([edf.iloc[2,0] for edf in estimated_phone_dfs])\n",
    "\n",
    "mydurations = myendtimes - mystart_times\n",
    "yandurations = yanendtimes - yanstart_times\n",
    "estimdurations = estim_end_times - estim_start_times\n",
    "\n",
    "my_error = mydurations - estimdurations\n",
    "yan_error = yandurations - estimdurations\n",
    "\n",
    "\n"
   ]
  },
  {
   "cell_type": "code",
   "execution_count": 133,
   "id": "3dc5d7b9-497a-4826-befd-93995f885c25",
   "metadata": {},
   "outputs": [
    {
     "data": {
      "text/plain": [
       "array([18.58, 12.1 , 16.23, 17.96, 20.12,  6.32, 15.03, 19.46, 14.07,\n",
       "       12.35, 11.9 ,  9.34,  8.33, 22.06, 27.96, 16.91, 13.66, 12.71,\n",
       "       21.69,  9.69, 12.11, 14.48, 10.43, 21.27, 10.33,  4.56, 10.73,\n",
       "       10.38,  9.48, 15.33,  5.04, 12.58, 21.82,  8.08, 15.37, 13.26,\n",
       "        8.99,  5.7 , 22.11, 15.88, 21.77])"
      ]
     },
     "execution_count": 133,
     "metadata": {},
     "output_type": "execute_result"
    }
   ],
   "source": [
    "estimdurations"
   ]
  },
  {
   "cell_type": "code",
   "execution_count": 134,
   "id": "b5596def-8ff6-4e69-8ee7-1ae2b30e8ae4",
   "metadata": {},
   "outputs": [],
   "source": [
    "import matplotlib.pyplot as plt"
   ]
  },
  {
   "cell_type": "code",
   "execution_count": null,
   "id": "862efaad-88a5-4663-b1c1-af4fb1658d77",
   "metadata": {},
   "outputs": [],
   "source": []
  },
  {
   "cell_type": "code",
   "execution_count": 135,
   "id": "2b7f63d9-9b7d-4ab9-81b5-607444e2903a",
   "metadata": {},
   "outputs": [
    {
     "data": {
      "text/plain": [
       "array([18.64, 13.54, 16.97, 19.41, 20.43,  7.08, 16.31, 21.07, 15.03,\n",
       "       15.33, 13.32,  9.75,  8.98, 23.31, 29.82, 17.88, 15.74, 13.37,\n",
       "       22.91, 10.79, 13.83, 15.19, 10.67, 22.01, 12.67,  5.99, 11.46,\n",
       "       11.48, 10.03, 15.66,  5.56, 13.74, 22.42,  8.75, 16.68, 13.65,\n",
       "        9.56,  6.63, 23.05, 16.33, 22.17])"
      ]
     },
     "execution_count": 135,
     "metadata": {},
     "output_type": "execute_result"
    }
   ],
   "source": [
    "estim_end_times"
   ]
  },
  {
   "cell_type": "code",
   "execution_count": 136,
   "id": "c693c51c-065a-4a51-b155-69354d554669",
   "metadata": {},
   "outputs": [
    {
     "data": {
      "text/plain": [
       "(array([4., 5., 3., 8., 8., 3., 5., 3., 0., 2.]),\n",
       " array([ 5.602   ,  8.027844, 10.453688, 12.879532, 15.305376, 17.73122 ,\n",
       "        20.157064, 22.582908, 25.008752, 27.434596, 29.86044 ]),\n",
       " <BarContainer object of 10 artists>)"
      ]
     },
     "execution_count": 136,
     "metadata": {},
     "output_type": "execute_result"
    },
    {
     "data": {
      "image/png": "[encoded data removed]",
      "text/plain": [
       "<Figure size 432x288 with 1 Axes>"
      ]
     },
     "metadata": {
      "needs_background": "light"
     },
     "output_type": "display_data"
    }
   ],
   "source": [
    "plt.hist(myendtimes)"
   ]
  },
  {
   "cell_type": "code",
   "execution_count": 137,
   "id": "3270754e-9e7c-486e-b3ee-d24017dee2f6",
   "metadata": {},
   "outputs": [
    {
     "data": {
      "text/plain": [
       "array([ 1.040000e-02,  1.632044e+01,  5.750000e-03,  1.804000e-02,\n",
       "        3.345000e-02,  6.168000e-02,  6.100000e-03,  1.372000e-02,\n",
       "        6.791000e-02,  7.137700e-01,  5.110000e-03,  2.300000e-01,\n",
       "       -5.300000e-04, -3.421000e-02, -4.550000e-03,  2.687000e-02,\n",
       "        4.753000e-02,  6.211900e-01,  8.760000e-03,  4.427570e+00,\n",
       "       -5.011000e-01,  2.216100e-01,  4.160000e+00, -3.547000e-02,\n",
       "        3.737000e-02,  7.000000e-03,  8.000000e-03,  2.000000e-02,\n",
       "       -1.280000e-01,  4.000000e-02,  4.200000e-02,  2.320000e-01,\n",
       "        1.322200e-01, -1.000000e-02,  4.000000e-02, -3.000000e-03,\n",
       "        4.000000e-03, -2.109000e-02,  1.020000e-01,  6.000000e-03,\n",
       "        2.300000e-02])"
      ]
     },
     "execution_count": 137,
     "metadata": {},
     "output_type": "execute_result"
    }
   ],
   "source": [
    "myendtimes - estim_end_times"
   ]
  },
  {
   "cell_type": "code",
   "execution_count": 142,
   "id": "e370b050-803e-41ac-9b3a-b253c8de53a0",
   "metadata": {},
   "outputs": [
    {
     "data": {
      "text/plain": [
       "Text(0, 0.5, 'NumFiles')"
      ]
     },
     "execution_count": 142,
     "metadata": {},
     "output_type": "execute_result"
    },
    {
     "data": {
      "image/png": "[encoded data removed]",
      "text/plain": [
       "<Figure size 432x288 with 1 Axes>"
      ]
     },
     "metadata": {
      "needs_background": "light"
     },
     "output_type": "display_data"
    },
    {
     "data": {
      "image/png": "[encoded data removed]",
      "text/plain": [
       "<Figure size 432x288 with 1 Axes>"
      ]
     },
     "metadata": {
      "needs_background": "light"
     },
     "output_type": "display_data"
    },
    {
     "data": {
      "image/png": "[encoded data removed]",
      "text/plain": [
       "<Figure size 432x288 with 1 Axes>"
      ]
     },
     "metadata": {
      "needs_background": "light"
     },
     "output_type": "display_data"
    },
    {
     "data": {
      "image/png": "[encoded data removed]",
      "text/plain": [
       "<Figure size 432x288 with 1 Axes>"
      ]
     },
     "metadata": {
      "needs_background": "light"
     },
     "output_type": "display_data"
    },
    {
     "data": {
      "image/png": "[encoded data removed]",
      "text/plain": [
       "<Figure size 432x288 with 1 Axes>"
      ]
     },
     "metadata": {
      "needs_background": "light"
     },
     "output_type": "display_data"
    }
   ],
   "source": [
    "plt.figure()\n",
    "plt.hist(np.abs(mystart_times - estim_start_times), alpha=.5, label='|EstimOnset-PradLabelOnset|', bins=20)\n",
    "plt.hist(np.abs(yanstart_times - estim_start_times), alpha=.5, label='|EstimOnset-YanLabelsOnset|', bins=20)\n",
    "plt.title('|EstimatedOnsetTime - LabledOnsetTime| \\n(holdout set, no pauses in audio)')\n",
    "plt.legend()\n",
    "plt.xlabel('Seconds')\n",
    "plt.ylabel('NumFiles')\n",
    "\n",
    "plt.figure()\n",
    "plt.hist(myendtimes - estim_end_times, alpha=.5, label='|EstimOffset-PradLabelOffset|', bins=20)\n",
    "plt.hist(yanendtimes - estim_end_times, alpha=.5, label='|EstimOffset-YanLabelOffset|', bins=20)\n",
    "# plt.hist(mystart_times, alpha=.5)\n",
    "plt.title('|EstimatedOffsetTime - LabledOffsetTime| \\n(holdout set, no pauses in audio)')\n",
    "plt.legend()\n",
    "plt.xlabel('Seconds')\n",
    "plt.ylabel('NumFiles')\n",
    "\n",
    "plt.figure()\n",
    "plt.title('Labled-Estim Duration Histogram')\n",
    "plt.hist(my_error, alpha=.5, label='PradDuration - EstimatedDuration', bins=20)\n",
    "plt.hist(yan_error, alpha=.5, label='YanDuration - EstimatedDuration', bins=20)\n",
    "# plt.hist(estim_end_times-estim_start_times, alpha=.5, label='Algo Estimated Duration', bins=20)\n",
    "plt.legend()\n",
    "plt.xlabel('Seconds')\n",
    "plt.ylabel('NumFiles')\n",
    "\n",
    "\n",
    "\n",
    "plt.figure()\n",
    "plt.hist(myendtimes - estim_end_times, alpha=.5, label='|EstimOffset-PradLabelOffset|', bins=np.linspace(0,.5, 20))\n",
    "plt.hist(yanendtimes - estim_end_times, alpha=.5, label='|EstimOffset-YanLabelOffset|', bins=np.linspace(0,.5, 20))\n",
    "# plt.hist(mystart_times, alpha=.5)\n",
    "plt.title('|EstimatedOffsetTime - LabledOffsetTime| \\n(holdout set, no pauses in audio)')\n",
    "plt.legend()\n",
    "plt.xlabel('Seconds')\n",
    "plt.ylabel('NumFiles')\n",
    "\n",
    "plt.figure()\n",
    "plt.title('Labled-Estim Duration Histogram (Zoomed In)')\n",
    "plt.hist(my_error, alpha=.5, label='PradDuration - EstimatedDuration', bins=np.linspace(0, 2, 40))\n",
    "plt.hist(yan_error, alpha=.5, label='YanDuration - EstimatedDuration', bins=np.linspace(0, 2, 40))\n",
    "\n",
    "# plt.hist(my_error, alpha=.5, label='PradDuration - EstimatedDuration', bins=20)\n",
    "# plt.hist(yan_error, alpha=.5, label='YanDuration - EstimatedDuration', bins=20)\n",
    "# plt.hist(estim_end_times-estim_start_times, alpha=.5, label='Algo Estimated Duration', bins=20)\n",
    "plt.legend()\n",
    "plt.xlabel('Seconds')\n",
    "plt.ylabel('NumFiles')\n"
   ]
  },
  {
   "cell_type": "code",
   "execution_count": 105,
   "id": "449200ec-0357-4050-9df4-8e3e399b4842",
   "metadata": {},
   "outputs": [
    {
     "name": "stdout",
     "output_type": "stream",
     "text": [
      "36\n",
      "36\n",
      "31\n",
      "29\n"
     ]
    }
   ],
   "source": [
    "print(sum(my_error<.55))\n",
    "print(sum(my_error<.3))\n",
    "print(sum(my_error<.1))\n",
    "print(sum(my_error<.05))"
   ]
  },
  {
   "cell_type": "code",
   "execution_count": 104,
   "id": "f3008cbf-d938-472e-9229-9e3a6c98f82d",
   "metadata": {},
   "outputs": [
    {
     "name": "stdout",
     "output_type": "stream",
     "text": [
      "36\n",
      "35\n",
      "33\n",
      "29\n"
     ]
    }
   ],
   "source": [
    "print(sum(yan_error<.55))\n",
    "print(sum(yan_error<.3))\n",
    "print(sum(yan_error<.1))\n",
    "print(sum(yan_error<.05))"
   ]
  },
  {
   "cell_type": "code",
   "execution_count": 70,
   "id": "01c9367d-ebb5-4bfb-b2c6-934066fe1643",
   "metadata": {},
   "outputs": [
    {
     "data": {
      "text/plain": [
       "Text(0, 0.5, 'NumFiles')"
      ]
     },
     "execution_count": 70,
     "metadata": {},
     "output_type": "execute_result"
    },
    {
     "data": {
      "image/png": "[encoded data removed]",
      "text/plain": [
       "<Figure size 576x864 with 2 Axes>"
      ]
     },
     "metadata": {
      "needs_background": "light"
     },
     "output_type": "display_data"
    }
   ],
   "source": [
    "plt.figure(figsize=(8,12))\n",
    "plt.subplot(2,1,1)\n",
    "plt.title('PhonationOnsetLabel Difference |PradLabels-YanLabels| \\n(For InterRaterAgreement)')\n",
    "plt.hist(np.abs(mystart_times - yanstart_times), alpha=.5)\n",
    "plt.xlabel('Difference in seconds')\n",
    "plt.ylabel('NumFiles')\n",
    "\n",
    "plt.subplot(2,1,2)\n",
    "plt.title('PhonationOffsetLabel Difference |PradLabels-YanLabels| \\n(For InterRaterAgreement)')\n",
    "plt.hist(np.abs(myendtimes - yanendtimes), alpha=.5)\n",
    "plt.xlabel('Difference in seconds')\n",
    "plt.ylabel('NumFiles')"
   ]
  },
  {
   "cell_type": "code",
   "execution_count": 120,
   "id": "1366722f-5ffd-49b8-aa94-61256521ac3f",
   "metadata": {},
   "outputs": [
    {
     "name": "stdout",
     "output_type": "stream",
     "text": [
      "6\n",
      "----------------------------------------------------\n",
      "Audiopath:\n",
      " /home/prad/datasets/phonation_data/5022-034098-02-20180808-1015-10.wav\n",
      "----- Estimated TG:-----\n",
      "        0      1      2\n",
      "0   0.00   1.44  [SIL]\n",
      "1   1.44  13.54     AA\n",
      "2  13.54  13.74  [SIL]\n",
      "3  13.74  29.84     AA\n",
      "----- Manual TG: -----\n",
      "           0         1      2\n",
      "0   0.00000   1.43289  [SIL]\n",
      "1   1.43289  29.86044     AA\n",
      "2  29.86044  30.00000  [SIL]\n",
      "----------------------------------------------------\n",
      "Audiopath:\n",
      " /home/prad/datasets/phonation_data/1042-20180119-1030-7.wav\n",
      "----- Estimated TG:-----\n",
      "        0      1      2\n",
      "0   0.00   2.98  [SIL]\n",
      "1   2.98  15.33     AA\n",
      "2  15.33  15.66  [SIL]\n",
      "3  15.66  16.00     AA\n",
      "4  16.00  17.67  [SIL]\n",
      "----- Manual TG: -----\n",
      "           0         1      2\n",
      "0   0.00000   2.97687  [SIL]\n",
      "1   2.97687  16.04377     AA\n",
      "2  16.04377  30.00000  [SIL]\n",
      "----------------------------------------------------\n",
      "Audiopath:\n",
      " /home/prad/datasets/phonation_data/1039-20170919-2248-7.wav\n",
      "----- Estimated TG:-----\n",
      "        0      1      2\n",
      "0   0.00   0.10  [SIL]\n",
      "1   0.10   8.30     AA\n",
      "2   8.30   9.21  [SIL]\n",
      "3   9.21  13.19     AA\n",
      "4  13.19  14.26  [SIL]\n",
      "5  14.26  14.29     AA\n",
      "6  14.29  14.34  [SIL]\n",
      "7  14.34  15.22     AA\n",
      "8  15.22  15.49  [SIL]\n",
      "----- Manual TG: -----\n",
      "           0         1      2\n",
      "0   0.00000   0.10087  [SIL]\n",
      "1   0.10087  15.51056     AA\n",
      "2  15.51056  30.00000  [SIL]\n",
      "----------------------------------------------------\n",
      "Audiopath:\n",
      " /home/prad/datasets/phonation_data/1042-20180118-0823-7.wav\n",
      "----- Estimated TG:-----\n",
      "        0      1      2\n",
      "0   0.00   0.66  [SIL]\n",
      "1   0.66  13.37     AA\n",
      "2  13.37  13.49  [SIL]\n",
      "3  13.49  14.00     AA\n",
      "4  14.00  15.95  [SIL]\n",
      "----- Manual TG: -----\n",
      "           0         1      2\n",
      "0   0.00000   0.64670  [SIL]\n",
      "1   0.64670  13.99119     AA\n",
      "2  13.99119  30.00000  [SIL]\n",
      "----------------------------------------------------\n",
      "Audiopath:\n",
      " /home/prad/datasets/phonation_data/1047-20180212-1455-7.wav\n",
      "----- Estimated TG:-----\n",
      "        0      1      2\n",
      "0   0.00   1.10  [SIL]\n",
      "1   1.10  10.79     AA\n",
      "2  10.79  10.84  [SIL]\n",
      "3  10.84  13.88     AA\n",
      "4  13.88  13.92  [SIL]\n",
      "5  13.92  15.21     AA\n",
      "6  15.21  16.37  [SIL]\n",
      "----- Manual TG: -----\n",
      "           0         1      2\n",
      "0   0.00000   1.09887  [SIL]\n",
      "1   1.09887  15.21757     AA\n",
      "2  15.21757  30.00000  [SIL]\n",
      "----------------------------------------------------\n",
      "Audiopath:\n",
      " /home/prad/datasets/phonation_data/1015-20170619-1815-7.wav\n",
      "----- Estimated TG:-----\n",
      "        0      1      2\n",
      "0   0.00   0.24  [SIL]\n",
      "1   0.24  10.67     AA\n",
      "2  10.67  11.28  [SIL]\n",
      "3  11.28  13.41     AA\n",
      "4  13.41  13.46  [SIL]\n",
      "5  13.46  14.85     AA\n",
      "6  14.85  16.70  [SIL]\n",
      "----- Manual TG: -----\n",
      "           0         1      2\n",
      "0   0.00000   0.24798  [SIL]\n",
      "1   0.24798  14.87471     AA\n",
      "2  14.87471  30.00000  [SIL]\n"
     ]
    }
   ],
   "source": [
    "error_end_inds = np.argwhere(myendtimes - estim_end_times>.25).ravel()\n",
    "audio_files = np.array([os.path.join(phonation_dataset_path, tgfile.split('/')[-1].split('.')[0]+'.wav') for tgfile in tg_filenames])\n",
    "end_error_audios = audio_files[error_end_inds]\n",
    "print(len(end_error_audios))\n",
    "end_error_audios\n",
    "\n",
    "for ii, idx in enumerate(error_end_inds):\n",
    "    print('----------------------------------------------------')\n",
    "    print('Audiopath:\\n', end_error_audios[ii])\n",
    "    print('----- Estimated TG:-----\\n', estimated_phone_dfs[idx])\n",
    "    print('----- Manual TG: -----\\n', manual_phone_dfs[idx])"
   ]
  },
  {
   "cell_type": "code",
   "execution_count": 125,
   "id": "172f433a-22cb-412c-b868-210ad0da2e83",
   "metadata": {},
   "outputs": [
    {
     "name": "stderr",
     "output_type": "stream",
     "text": [
      "/home/prad/anaconda3/envs/alignment/lib/python3.7/site-packages/ipykernel_launcher.py:26: VisibleDeprecationWarning: Creating an ndarray from ragged nested sequences (which is a list-or-tuple of lists-or-tuples-or ndarrays with different lengths or shapes) is deprecated. If you meant to do this, you must specify 'dtype=object' when creating the ndarray.\n"
     ]
    }
   ],
   "source": [
    "import pandas as pd\n",
    "import numpy as np\n",
    "import os\n",
    "from alignment_helper_fns import textgridpath_to_phonedf, get_all_textgrids_in_directory\n",
    "\n",
    "\n",
    "df = pd.read_csv('./phone_annotations_prad.csv')\n",
    "phonation_dataset_path = '/home/prad/datasets/phonation_data'\n",
    "df = df[~pd.isna(df['start_time_groundtruth'])]\n",
    "estimated_tgs_path = '/home/prad/github/charsiu/results/phonation_nopause_trained_frame'\n",
    "manual_tgs_path = '/home/prad/datasets/phonation_data/extracted_manual_textgrids'\n",
    "hold_out_inds = np.argwhere(df['RatePhonationStepPauseCount'].values>1).ravel()\n",
    "# hold_out_inds = np.argwhere(df['RatePhonationStepPauseCount'].values)\n",
    "\n",
    "df = df.reset_index()\n",
    "df = df.iloc[hold_out_inds, :]\n",
    "df = df[df['PradPause'].values>=0]\n",
    "df = df[pd.isna(df['PradFlag'])]\n",
    "df = df.reset_index()\n",
    "\n",
    "# estimated_tgs = get_all_textgrids_in_directory('./results/phonation_baseline_frame')\n",
    "tg_filenames = [sessid+'.TextGrid' for sessid in list(df['sessionStepId'].values)]\n",
    "estimated_tgs = [os.path.join(estimated_tgs_path, tgfname) for tgfname in tg_filenames]\n",
    "manual_tgs = [os.path.join(manual_tgs_path, tgfname) for tgfname in tg_filenames]\n",
    "manual_phone_dfs = np.array([textgridpath_to_phonedf(tgpath, phone_key='phones', replace_silence=False) for tgpath in manual_tgs])\n",
    "estimated_phone_dfs = np.array([textgridpath_to_phonedf(tgpath, phone_key='phones', replace_silence=False) for tgpath in estimated_tgs])\n",
    "audio_files = [os.path.join(phonation_dataset_path, tgfile.split('/')[-1].split('.')[0]+'.wav') for tgfile in tg_filenames]\n",
    "import traceback\n",
    "\n",
    "manual_phone_dfs = []\n",
    "estimated_phone_dfs = []\n",
    "for ii in range(len(manual_tgs)):\n",
    "\n",
    "    manual_tg = manual_tgs[ii]\n",
    "    estimated_tg = estimated_tgs[ii]\n",
    "\n",
    "    try:\n",
    "        manual_phone_dfs.append(textgridpath_to_phonedf(manual_tg, phone_key='phones', replace_silence=False))\n",
    "        estimated_phone_dfs.append(textgridpath_to_phonedf(estimated_tg, phone_key='phones', replace_silence=False))\n",
    "    except Exception:\n",
    "        print('-------------------------------------------------')\n",
    "        print('Error with tg files:\\t', manual_tg, estimated_tg)\n",
    "        print('Audio:\\t')\n",
    "        print(\"They're probably empty\")\n",
    "        traceback.print_exc()\n",
    "\n",
    "mystart_times = df['PradStart'].values\n",
    "yanstart_times = df['start_time_groundtruth'].values\n",
    "estim_start_times = np.array([edf.iloc[1,0] for edf in estimated_phone_dfs])\n",
    "\n",
    "myendtimes = df['PradEnd'].values\n",
    "yanendtimes = df['end_time_groundtruth'].values\n",
    "estim_end_times = np.array([edf.iloc[2,0] for edf in estimated_phone_dfs])\n",
    "\n",
    "mydurations = myendtimes - mystart_times\n",
    "yandurations = yanendtimes - yanstart_times\n",
    "estimdurations = estim_end_times - estim_start_times\n",
    "\n",
    "my_error = mydurations - estimdurations\n",
    "yan_error = yandurations - estimdurations\n",
    "\n",
    "\n"
   ]
  },
  {
   "cell_type": "code",
   "execution_count": 128,
   "id": "e968c780-d4f9-44e5-afa7-c5d02cb22611",
   "metadata": {},
   "outputs": [
    {
     "name": "stdout",
     "output_type": "stream",
     "text": [
      "4\n",
      "----------------------------------------------------\n",
      "Audiopath:\n",
      " /home/prad/datasets/phonation_data/5022-034098-02-20180808-1015-10.wav\n",
      "----- Estimated TG:-----\n",
      "        0      1      2\n",
      "0   0.00   1.44  [SIL]\n",
      "1   1.44  13.54     AA\n",
      "2  13.54  13.74  [SIL]\n",
      "3  13.74  29.84     AA\n",
      "----- Manual TG: -----\n",
      "           0         1      2\n",
      "0   0.00000   1.43289  [SIL]\n",
      "1   1.43289  29.86044     AA\n",
      "2  29.86044  30.00000  [SIL]\n",
      "----------------------------------------------------\n",
      "Audiopath:\n",
      " /home/prad/datasets/phonation_data/1042-20180119-1030-7.wav\n",
      "----- Estimated TG:-----\n",
      "        0      1      2\n",
      "0   0.00   2.98  [SIL]\n",
      "1   2.98  15.33     AA\n",
      "2  15.33  15.66  [SIL]\n",
      "3  15.66  16.00     AA\n",
      "4  16.00  17.67  [SIL]\n",
      "----- Manual TG: -----\n",
      "           0         1      2\n",
      "0   0.00000   2.97687  [SIL]\n",
      "1   2.97687  16.04377     AA\n",
      "2  16.04377  30.00000  [SIL]\n",
      "----------------------------------------------------\n",
      "Audiopath:\n",
      " /home/prad/datasets/phonation_data/1039-20170919-2248-7.wav\n",
      "----- Estimated TG:-----\n",
      "        0      1      2\n",
      "0   0.00   0.10  [SIL]\n",
      "1   0.10   8.30     AA\n",
      "2   8.30   9.21  [SIL]\n",
      "3   9.21  13.19     AA\n",
      "4  13.19  14.26  [SIL]\n",
      "5  14.26  14.29     AA\n",
      "6  14.29  14.34  [SIL]\n",
      "7  14.34  15.22     AA\n",
      "8  15.22  15.49  [SIL]\n",
      "----- Manual TG: -----\n",
      "           0         1      2\n",
      "0   0.00000   0.10087  [SIL]\n",
      "1   0.10087  15.51056     AA\n",
      "2  15.51056  30.00000  [SIL]\n",
      "----------------------------------------------------\n",
      "Audiopath:\n",
      " /home/prad/datasets/phonation_data/5022-001010-03-20180123-0730-10.wav\n",
      "----- Estimated TG:-----\n",
      "       0      1      2\n",
      "0  0.00   0.41  [SIL]\n",
      "1  0.41   9.75     AA\n",
      "2  9.75  13.96  [SIL]\n",
      "----- Manual TG: -----\n",
      "           0         1      2\n",
      "0   0.00000   0.40169  [SIL]\n",
      "1   0.40169  10.23524     AA\n",
      "2  10.23524  30.00000  [SIL]\n"
     ]
    }
   ],
   "source": [
    "error_end_inds = np.argwhere(myendtimes - estim_end_times>.1).ravel()\n",
    "audio_files = np.array([os.path.join(phonation_dataset_path, tgfile.split('/')[-1].split('.')[0]+'.wav') for tgfile in tg_filenames])\n",
    "end_error_audios = audio_files[error_end_inds]\n",
    "print(len(end_error_audios))\n",
    "end_error_audios\n",
    "\n",
    "for ii, idx in enumerate(error_end_inds):\n",
    "    print('----------------------------------------------------')\n",
    "    print('Audiopath:\\n', end_error_audios[ii])\n",
    "    print('----- Estimated TG:-----\\n', estimated_phone_dfs[idx])\n",
    "    print('----- Manual TG: -----\\n', manual_phone_dfs[idx])"
   ]
  },
  {
   "cell_type": "code",
   "execution_count": null,
   "id": "e79f4eb4-8d04-4a31-b0dd-2e3b43e5d79d",
   "metadata": {},
   "outputs": [],
   "source": [
    "\"\"\" concatenation\"\"\""
   ]
  },
  {
   "cell_type": "code",
   "execution_count": null,
   "id": "c14b2718-141e-4fb5-8537-7d45445ae372",
   "metadata": {},
   "outputs": [],
   "source": []
  },
  {
   "cell_type": "code",
   "execution_count": 87,
   "id": "aac6cb96-79d8-453e-94ca-977278a0033a",
   "metadata": {},
   "outputs": [
    {
     "name": "stdout",
     "output_type": "stream",
     "text": [
      "Num estimated with more than 1 phone duration:\t  8\n"
     ]
    }
   ],
   "source": [
    "print('Num estimated with more than 1 phone duration:\\t ', sum([etg.shape[0]>3 for etg in estimated_phone_dfs]))"
   ]
  },
  {
   "cell_type": "code",
   "execution_count": null,
   "id": "24e00ba3-b4d5-4700-934b-b4816602eec4",
   "metadata": {},
   "outputs": [],
   "source": []
  },
  {
   "cell_type": "code",
   "execution_count": null,
   "id": "65481560-aa08-4b3b-b73f-1f798b3c43fa",
   "metadata": {},
   "outputs": [],
   "source": []
  }
 ],
 "metadata": {
  "kernelspec": {
   "display_name": "alignment",
   "language": "python",
   "name": "alignment"
  },
  "language_info": {
   "codemirror_mode": {
    "name": "ipython",
    "version": 3
   },
   "file_extension": ".py",
   "mimetype": "text/x-python",
   "name": "python",
   "nbconvert_exporter": "python",
   "pygments_lexer": "ipython3",
   "version": "3.7.12"
  }
 },
 "nbformat": 4,
 "nbformat_minor": 5
}
