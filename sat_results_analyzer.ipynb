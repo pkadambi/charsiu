{
 "cells": [
  {
   "cell_type": "code",
   "execution_count": 1,
   "id": "b50ae94c-cb13-49b6-b334-ebaefd1ca5af",
   "metadata": {},
   "outputs": [],
   "source": [
    "import pandas as pd\n",
    "import numpy as np\n",
    "import matplotlib.pyplot as plt"
   ]
  },
  {
   "cell_type": "code",
   "execution_count": 2,
   "id": "e0779dae-64ad-4ca7-a923-00b82dc34db5",
   "metadata": {},
   "outputs": [],
   "source": [
    "satdf = pd.read_csv('./results_sat/results.csv').set_index('Unnamed: 0')\n",
    "framedf = pd.read_csv('./results_frame_10epochs/results.csv').set_index('Unnamed: 0')"
   ]
  },
  {
   "cell_type": "code",
   "execution_count": 3,
   "id": "c74e2be7-747f-4d01-80ca-588ec7da7e6d",
   "metadata": {},
   "outputs": [
    {
     "data": {
      "text/plain": [
       "Index(['NumPhonesPredicted_PT', 'NumCorrectPhones_PT', 'AlignmentAcc_PT',\n",
       "       'FramewisePER_PT', 'EvalLoss_PT', 'NumPhonesPredicted_FT',\n",
       "       'NumCorrectPhones_FT', 'AlignmentAcc_FT', 'FramewisePER_FT',\n",
       "       'EvalLoss_FT', 'NumFiles'],\n",
       "      dtype='object')"
      ]
     },
     "execution_count": 3,
     "metadata": {},
     "output_type": "execute_result"
    }
   ],
   "source": [
    "satdf.columns"
   ]
  },
  {
   "cell_type": "code",
   "execution_count": 4,
   "id": "de8294d8-6b01-488b-99cb-dc912693cf6a",
   "metadata": {},
   "outputs": [],
   "source": [
    "perf_diff = [satdf[satdf.index==idx]['AlignmentAcc_FT'] - framedf[framedf.index==idx]['AlignmentAcc_FT'] for idx in list(satdf.index)]"
   ]
  },
  {
   "cell_type": "code",
   "execution_count": 5,
   "id": "153ffe7e-9c2c-433b-b8ae-56f055230a7e",
   "metadata": {},
   "outputs": [],
   "source": [
    "perfdif = np.array([_pd.values[0] for _pd in perf_diff])"
   ]
  },
  {
   "cell_type": "code",
   "execution_count": 15,
   "id": "591d0534-9335-4e87-aecb-26cbecc21369",
   "metadata": {},
   "outputs": [
    {
     "name": "stdout",
     "output_type": "stream",
     "text": [
      "Extracting all textgrids in directory:\t /home/prad/datasets/ChildSpeechDataset/manually-aligned-text-grids/\n"
     ]
    },
    {
     "name": "stderr",
     "output_type": "stream",
     "text": [
      "43it [00:00, 6944.75it/s]\n"
     ]
    }
   ],
   "source": [
    "from alignment_helper_fns import *\n",
    "unmatched_manual_textgrid_files = get_all_textgrids_in_directory('/home/prad/datasets/ChildSpeechDataset/manually-aligned-text-grids/')\n"
   ]
  },
  {
   "cell_type": "code",
   "execution_count": 21,
   "id": "ef7a0b1c-dd3f-4a44-bdd3-d724ee64670e",
   "metadata": {},
   "outputs": [
    {
     "name": "stdout",
     "output_type": "stream",
     "text": [
      "Caclulating alignment accuracy...\n"
     ]
    },
    {
     "name": "stderr",
     "output_type": "stream",
     "text": [
      "96it [00:00, 364.16it/s]\n"
     ]
    },
    {
     "name": "stdout",
     "output_type": "stream",
     "text": [
      "Accuracy Excluding Extra Phonemes\n",
      "Accuracy:\t 0.8940042826552462\n",
      "Num Correct:\t 835\n",
      "Num Predicted Phones:\t 934\n",
      "Caclulating alignment accuracy...\n"
     ]
    },
    {
     "name": "stderr",
     "output_type": "stream",
     "text": [
      "96it [00:00, 363.06it/s]\n"
     ]
    },
    {
     "name": "stdout",
     "output_type": "stream",
     "text": [
      "Accuracy Excluding Extra Phonemes\n",
      "Accuracy:\t 0.8711395101171459\n",
      "Num Correct:\t 818\n",
      "Num Predicted Phones:\t 939\n",
      "Caclulating alignment accuracy...\n"
     ]
    },
    {
     "name": "stderr",
     "output_type": "stream",
     "text": [
      "98it [00:00, 364.13it/s]\n"
     ]
    },
    {
     "name": "stdout",
     "output_type": "stream",
     "text": [
      "Accuracy Excluding Extra Phonemes\n",
      "Accuracy:\t 0.9048117154811716\n",
      "Num Correct:\t 865\n",
      "Num Predicted Phones:\t 956\n",
      "Caclulating alignment accuracy...\n"
     ]
    },
    {
     "name": "stderr",
     "output_type": "stream",
     "text": [
      "98it [00:00, 361.34it/s]\n"
     ]
    },
    {
     "name": "stdout",
     "output_type": "stream",
     "text": [
      "Accuracy Excluding Extra Phonemes\n",
      "Accuracy:\t 0.906054279749478\n",
      "Num Correct:\t 868\n",
      "Num Predicted Phones:\t 958\n",
      "Caclulating alignment accuracy...\n"
     ]
    },
    {
     "name": "stderr",
     "output_type": "stream",
     "text": [
      "78it [00:00, 418.74it/s]\n"
     ]
    },
    {
     "name": "stdout",
     "output_type": "stream",
     "text": [
      "Accuracy Excluding Extra Phonemes\n",
      "Accuracy:\t 0.9386281588447654\n",
      "Num Correct:\t 520\n",
      "Num Predicted Phones:\t 554\n",
      "Caclulating alignment accuracy...\n"
     ]
    },
    {
     "name": "stderr",
     "output_type": "stream",
     "text": [
      "78it [00:00, 419.72it/s]\n"
     ]
    },
    {
     "name": "stdout",
     "output_type": "stream",
     "text": [
      "Accuracy Excluding Extra Phonemes\n",
      "Accuracy:\t 0.9207207207207208\n",
      "Num Correct:\t 511\n",
      "Num Predicted Phones:\t 555\n",
      "Caclulating alignment accuracy...\n"
     ]
    },
    {
     "name": "stderr",
     "output_type": "stream",
     "text": [
      "98it [00:00, 380.66it/s]\n"
     ]
    },
    {
     "name": "stdout",
     "output_type": "stream",
     "text": [
      "Accuracy Excluding Extra Phonemes\n",
      "Accuracy:\t 0.9361256544502617\n",
      "Num Correct:\t 894\n",
      "Num Predicted Phones:\t 955\n",
      "Caclulating alignment accuracy...\n"
     ]
    },
    {
     "name": "stderr",
     "output_type": "stream",
     "text": [
      "98it [00:00, 382.05it/s]\n"
     ]
    },
    {
     "name": "stdout",
     "output_type": "stream",
     "text": [
      "Accuracy Excluding Extra Phonemes\n",
      "Accuracy:\t 0.9274447949526814\n",
      "Num Correct:\t 882\n",
      "Num Predicted Phones:\t 951\n",
      "Caclulating alignment accuracy...\n"
     ]
    },
    {
     "name": "stderr",
     "output_type": "stream",
     "text": [
      "98it [00:00, 383.05it/s]\n"
     ]
    },
    {
     "name": "stdout",
     "output_type": "stream",
     "text": [
      "Accuracy Excluding Extra Phonemes\n",
      "Accuracy:\t 0.9420442571127503\n",
      "Num Correct:\t 894\n",
      "Num Predicted Phones:\t 949\n",
      "Caclulating alignment accuracy...\n"
     ]
    },
    {
     "name": "stderr",
     "output_type": "stream",
     "text": [
      "98it [00:00, 378.56it/s]\n"
     ]
    },
    {
     "name": "stdout",
     "output_type": "stream",
     "text": [
      "Accuracy Excluding Extra Phonemes\n",
      "Accuracy:\t 0.9296956977964324\n",
      "Num Correct:\t 886\n",
      "Num Predicted Phones:\t 953\n",
      "Caclulating alignment accuracy...\n"
     ]
    },
    {
     "name": "stderr",
     "output_type": "stream",
     "text": [
      "94it [00:00, 303.46it/s]\n"
     ]
    },
    {
     "name": "stdout",
     "output_type": "stream",
     "text": [
      "Accuracy Excluding Extra Phonemes\n",
      "Accuracy:\t 0.9345372460496614\n",
      "Num Correct:\t 828\n",
      "Num Predicted Phones:\t 886\n",
      "Caclulating alignment accuracy...\n"
     ]
    },
    {
     "name": "stderr",
     "output_type": "stream",
     "text": [
      "94it [00:00, 304.19it/s]\n"
     ]
    },
    {
     "name": "stdout",
     "output_type": "stream",
     "text": [
      "Accuracy Excluding Extra Phonemes\n",
      "Accuracy:\t 0.9469525959367946\n",
      "Num Correct:\t 839\n",
      "Num Predicted Phones:\t 886\n",
      "Caclulating alignment accuracy...\n"
     ]
    },
    {
     "name": "stderr",
     "output_type": "stream",
     "text": [
      "98it [00:00, 366.25it/s]\n"
     ]
    },
    {
     "name": "stdout",
     "output_type": "stream",
     "text": [
      "Accuracy Excluding Extra Phonemes\n",
      "Accuracy:\t 0.9292502639915523\n",
      "Num Correct:\t 880\n",
      "Num Predicted Phones:\t 947\n",
      "Caclulating alignment accuracy...\n"
     ]
    },
    {
     "name": "stderr",
     "output_type": "stream",
     "text": [
      "98it [00:00, 370.77it/s]\n"
     ]
    },
    {
     "name": "stdout",
     "output_type": "stream",
     "text": [
      "Accuracy Excluding Extra Phonemes\n",
      "Accuracy:\t 0.9023109243697479\n",
      "Num Correct:\t 859\n",
      "Num Predicted Phones:\t 952\n",
      "Caclulating alignment accuracy...\n"
     ]
    },
    {
     "name": "stderr",
     "output_type": "stream",
     "text": [
      "98it [00:00, 303.32it/s]\n"
     ]
    },
    {
     "name": "stdout",
     "output_type": "stream",
     "text": [
      "Accuracy Excluding Extra Phonemes\n",
      "Accuracy:\t 0.9367755532139094\n",
      "Num Correct:\t 889\n",
      "Num Predicted Phones:\t 949\n",
      "Caclulating alignment accuracy...\n"
     ]
    },
    {
     "name": "stderr",
     "output_type": "stream",
     "text": [
      "98it [00:00, 295.23it/s]\n"
     ]
    },
    {
     "name": "stdout",
     "output_type": "stream",
     "text": [
      "Accuracy Excluding Extra Phonemes\n",
      "Accuracy:\t 0.9329140461215933\n",
      "Num Correct:\t 890\n",
      "Num Predicted Phones:\t 954\n",
      "Caclulating alignment accuracy...\n"
     ]
    },
    {
     "name": "stderr",
     "output_type": "stream",
     "text": [
      "98it [00:00, 363.63it/s]\n"
     ]
    },
    {
     "name": "stdout",
     "output_type": "stream",
     "text": [
      "Accuracy Excluding Extra Phonemes\n",
      "Accuracy:\t 0.9197080291970803\n",
      "Num Correct:\t 882\n",
      "Num Predicted Phones:\t 959\n",
      "Caclulating alignment accuracy...\n"
     ]
    },
    {
     "name": "stderr",
     "output_type": "stream",
     "text": [
      "98it [00:00, 364.05it/s]\n"
     ]
    },
    {
     "name": "stdout",
     "output_type": "stream",
     "text": [
      "Accuracy Excluding Extra Phonemes\n",
      "Accuracy:\t 0.9114583333333334\n",
      "Num Correct:\t 875\n",
      "Num Predicted Phones:\t 960\n",
      "Caclulating alignment accuracy...\n"
     ]
    },
    {
     "name": "stderr",
     "output_type": "stream",
     "text": [
      "82it [00:00, 399.32it/s]\n"
     ]
    },
    {
     "name": "stdout",
     "output_type": "stream",
     "text": [
      "Accuracy Excluding Extra Phonemes\n",
      "Accuracy:\t 0.9194029850746268\n",
      "Num Correct:\t 616\n",
      "Num Predicted Phones:\t 670\n",
      "Caclulating alignment accuracy...\n"
     ]
    },
    {
     "name": "stderr",
     "output_type": "stream",
     "text": [
      "82it [00:00, 400.42it/s]\n"
     ]
    },
    {
     "name": "stdout",
     "output_type": "stream",
     "text": [
      "Accuracy Excluding Extra Phonemes\n",
      "Accuracy:\t 0.9129793510324484\n",
      "Num Correct:\t 619\n",
      "Num Predicted Phones:\t 678\n",
      "Caclulating alignment accuracy...\n"
     ]
    },
    {
     "name": "stderr",
     "output_type": "stream",
     "text": [
      "78it [00:00, 437.27it/s]\n"
     ]
    },
    {
     "name": "stdout",
     "output_type": "stream",
     "text": [
      "Accuracy Excluding Extra Phonemes\n",
      "Accuracy:\t 0.8983957219251337\n",
      "Num Correct:\t 504\n",
      "Num Predicted Phones:\t 561\n",
      "Caclulating alignment accuracy...\n"
     ]
    },
    {
     "name": "stderr",
     "output_type": "stream",
     "text": [
      "78it [00:00, 438.08it/s]\n"
     ]
    },
    {
     "name": "stdout",
     "output_type": "stream",
     "text": [
      "Accuracy Excluding Extra Phonemes\n",
      "Accuracy:\t 0.9178571428571428\n",
      "Num Correct:\t 514\n",
      "Num Predicted Phones:\t 560\n",
      "Caclulating alignment accuracy...\n"
     ]
    },
    {
     "name": "stderr",
     "output_type": "stream",
     "text": [
      "98it [00:00, 310.15it/s]\n"
     ]
    },
    {
     "name": "stdout",
     "output_type": "stream",
     "text": [
      "Accuracy Excluding Extra Phonemes\n",
      "Accuracy:\t 0.9377637130801688\n",
      "Num Correct:\t 889\n",
      "Num Predicted Phones:\t 948\n",
      "Caclulating alignment accuracy...\n"
     ]
    },
    {
     "name": "stderr",
     "output_type": "stream",
     "text": [
      "98it [00:00, 310.77it/s]\n"
     ]
    },
    {
     "name": "stdout",
     "output_type": "stream",
     "text": [
      "Accuracy Excluding Extra Phonemes\n",
      "Accuracy:\t 0.9473129610115911\n",
      "Num Correct:\t 899\n",
      "Num Predicted Phones:\t 949\n",
      "Caclulating alignment accuracy...\n"
     ]
    },
    {
     "name": "stderr",
     "output_type": "stream",
     "text": [
      "67it [00:00, 464.15it/s]\n"
     ]
    },
    {
     "name": "stdout",
     "output_type": "stream",
     "text": [
      "Accuracy Excluding Extra Phonemes\n",
      "Accuracy:\t 0.9120603015075377\n",
      "Num Correct:\t 363\n",
      "Num Predicted Phones:\t 398\n",
      "Caclulating alignment accuracy...\n"
     ]
    },
    {
     "name": "stderr",
     "output_type": "stream",
     "text": [
      "67it [00:00, 467.04it/s]\n"
     ]
    },
    {
     "name": "stdout",
     "output_type": "stream",
     "text": [
      "Accuracy Excluding Extra Phonemes\n",
      "Accuracy:\t 0.8861386138613861\n",
      "Num Correct:\t 358\n",
      "Num Predicted Phones:\t 404\n",
      "Caclulating alignment accuracy...\n"
     ]
    },
    {
     "name": "stderr",
     "output_type": "stream",
     "text": [
      "96it [00:00, 381.14it/s]\n"
     ]
    },
    {
     "name": "stdout",
     "output_type": "stream",
     "text": [
      "Accuracy Excluding Extra Phonemes\n",
      "Accuracy:\t 0.8888888888888888\n",
      "Num Correct:\t 832\n",
      "Num Predicted Phones:\t 936\n",
      "Caclulating alignment accuracy...\n"
     ]
    },
    {
     "name": "stderr",
     "output_type": "stream",
     "text": [
      "96it [00:00, 383.38it/s]\n"
     ]
    },
    {
     "name": "stdout",
     "output_type": "stream",
     "text": [
      "Accuracy Excluding Extra Phonemes\n",
      "Accuracy:\t 0.8782051282051282\n",
      "Num Correct:\t 822\n",
      "Num Predicted Phones:\t 936\n",
      "Caclulating alignment accuracy...\n"
     ]
    },
    {
     "name": "stderr",
     "output_type": "stream",
     "text": [
      "97it [00:00, 376.89it/s]\n"
     ]
    },
    {
     "name": "stdout",
     "output_type": "stream",
     "text": [
      "Accuracy Excluding Extra Phonemes\n",
      "Accuracy:\t 0.9018987341772152\n",
      "Num Correct:\t 855\n",
      "Num Predicted Phones:\t 948\n",
      "Caclulating alignment accuracy...\n"
     ]
    },
    {
     "name": "stderr",
     "output_type": "stream",
     "text": [
      "97it [00:00, 380.90it/s]\n"
     ]
    },
    {
     "name": "stdout",
     "output_type": "stream",
     "text": [
      "Accuracy Excluding Extra Phonemes\n",
      "Accuracy:\t 0.8885383806519453\n",
      "Num Correct:\t 845\n",
      "Num Predicted Phones:\t 951\n",
      "Caclulating alignment accuracy...\n"
     ]
    },
    {
     "name": "stderr",
     "output_type": "stream",
     "text": [
      "96it [00:00, 312.55it/s]\n"
     ]
    },
    {
     "name": "stdout",
     "output_type": "stream",
     "text": [
      "Accuracy Excluding Extra Phonemes\n",
      "Accuracy:\t 0.9369565217391305\n",
      "Num Correct:\t 862\n",
      "Num Predicted Phones:\t 920\n",
      "Caclulating alignment accuracy...\n"
     ]
    },
    {
     "name": "stderr",
     "output_type": "stream",
     "text": [
      "96it [00:00, 312.99it/s]\n"
     ]
    },
    {
     "name": "stdout",
     "output_type": "stream",
     "text": [
      "Accuracy Excluding Extra Phonemes\n",
      "Accuracy:\t 0.9149623250807319\n",
      "Num Correct:\t 850\n",
      "Num Predicted Phones:\t 929\n",
      "Caclulating alignment accuracy...\n"
     ]
    },
    {
     "name": "stderr",
     "output_type": "stream",
     "text": [
      "98it [00:00, 369.36it/s]\n"
     ]
    },
    {
     "name": "stdout",
     "output_type": "stream",
     "text": [
      "Accuracy Excluding Extra Phonemes\n",
      "Accuracy:\t 0.9453207150368034\n",
      "Num Correct:\t 899\n",
      "Num Predicted Phones:\t 951\n",
      "Caclulating alignment accuracy...\n"
     ]
    },
    {
     "name": "stderr",
     "output_type": "stream",
     "text": [
      "98it [00:00, 362.89it/s]\n"
     ]
    },
    {
     "name": "stdout",
     "output_type": "stream",
     "text": [
      "Accuracy Excluding Extra Phonemes\n",
      "Accuracy:\t 0.9341004184100419\n",
      "Num Correct:\t 893\n",
      "Num Predicted Phones:\t 956\n",
      "Caclulating alignment accuracy...\n"
     ]
    },
    {
     "name": "stderr",
     "output_type": "stream",
     "text": [
      "98it [00:00, 380.27it/s]\n"
     ]
    },
    {
     "name": "stdout",
     "output_type": "stream",
     "text": [
      "Accuracy Excluding Extra Phonemes\n",
      "Accuracy:\t 0.9129979035639413\n",
      "Num Correct:\t 871\n",
      "Num Predicted Phones:\t 954\n",
      "Caclulating alignment accuracy...\n"
     ]
    },
    {
     "name": "stderr",
     "output_type": "stream",
     "text": [
      "98it [00:00, 379.79it/s]\n"
     ]
    },
    {
     "name": "stdout",
     "output_type": "stream",
     "text": [
      "Accuracy Excluding Extra Phonemes\n",
      "Accuracy:\t 0.9111807732497388\n",
      "Num Correct:\t 872\n",
      "Num Predicted Phones:\t 957\n",
      "Caclulating alignment accuracy...\n"
     ]
    },
    {
     "name": "stderr",
     "output_type": "stream",
     "text": [
      "66it [00:00, 474.82it/s]\n"
     ]
    },
    {
     "name": "stdout",
     "output_type": "stream",
     "text": [
      "Accuracy Excluding Extra Phonemes\n",
      "Accuracy:\t 0.8909090909090909\n",
      "Num Correct:\t 343\n",
      "Num Predicted Phones:\t 385\n",
      "Caclulating alignment accuracy...\n"
     ]
    },
    {
     "name": "stderr",
     "output_type": "stream",
     "text": [
      "66it [00:00, 466.01it/s]\n"
     ]
    },
    {
     "name": "stdout",
     "output_type": "stream",
     "text": [
      "Accuracy Excluding Extra Phonemes\n",
      "Accuracy:\t 0.841025641025641\n",
      "Num Correct:\t 328\n",
      "Num Predicted Phones:\t 390\n",
      "Caclulating alignment accuracy...\n"
     ]
    },
    {
     "name": "stderr",
     "output_type": "stream",
     "text": [
      "98it [00:00, 373.65it/s]\n"
     ]
    },
    {
     "name": "stdout",
     "output_type": "stream",
     "text": [
      "Accuracy Excluding Extra Phonemes\n",
      "Accuracy:\t 0.8978102189781022\n",
      "Num Correct:\t 861\n",
      "Num Predicted Phones:\t 959\n",
      "Caclulating alignment accuracy...\n"
     ]
    },
    {
     "name": "stderr",
     "output_type": "stream",
     "text": [
      "98it [00:00, 366.64it/s]\n"
     ]
    },
    {
     "name": "stdout",
     "output_type": "stream",
     "text": [
      "Accuracy Excluding Extra Phonemes\n",
      "Accuracy:\t 0.8914167528438469\n",
      "Num Correct:\t 862\n",
      "Num Predicted Phones:\t 967\n",
      "Caclulating alignment accuracy...\n"
     ]
    },
    {
     "name": "stderr",
     "output_type": "stream",
     "text": [
      "64it [00:00, 458.95it/s]\n"
     ]
    },
    {
     "name": "stdout",
     "output_type": "stream",
     "text": [
      "Accuracy Excluding Extra Phonemes\n",
      "Accuracy:\t 0.905511811023622\n",
      "Num Correct:\t 345\n",
      "Num Predicted Phones:\t 381\n",
      "Caclulating alignment accuracy...\n"
     ]
    },
    {
     "name": "stderr",
     "output_type": "stream",
     "text": [
      "64it [00:00, 469.34it/s]\n"
     ]
    },
    {
     "name": "stdout",
     "output_type": "stream",
     "text": [
      "Accuracy Excluding Extra Phonemes\n",
      "Accuracy:\t 0.8932291666666666\n",
      "Num Correct:\t 343\n",
      "Num Predicted Phones:\t 384\n",
      "Caclulating alignment accuracy...\n"
     ]
    },
    {
     "name": "stderr",
     "output_type": "stream",
     "text": [
      "97it [00:00, 380.09it/s]\n"
     ]
    },
    {
     "name": "stdout",
     "output_type": "stream",
     "text": [
      "Accuracy Excluding Extra Phonemes\n",
      "Accuracy:\t 0.935856992639327\n",
      "Num Correct:\t 890\n",
      "Num Predicted Phones:\t 951\n",
      "Caclulating alignment accuracy...\n"
     ]
    },
    {
     "name": "stderr",
     "output_type": "stream",
     "text": [
      "97it [00:00, 382.12it/s]\n"
     ]
    },
    {
     "name": "stdout",
     "output_type": "stream",
     "text": [
      "Accuracy Excluding Extra Phonemes\n",
      "Accuracy:\t 0.9544008483563097\n",
      "Num Correct:\t 900\n",
      "Num Predicted Phones:\t 943\n",
      "Caclulating alignment accuracy...\n"
     ]
    },
    {
     "name": "stderr",
     "output_type": "stream",
     "text": [
      "97it [00:00, 306.61it/s]\n"
     ]
    },
    {
     "name": "stdout",
     "output_type": "stream",
     "text": [
      "Accuracy Excluding Extra Phonemes\n",
      "Accuracy:\t 0.9376321353065539\n",
      "Num Correct:\t 887\n",
      "Num Predicted Phones:\t 946\n",
      "Caclulating alignment accuracy...\n"
     ]
    },
    {
     "name": "stderr",
     "output_type": "stream",
     "text": [
      "97it [00:00, 309.83it/s]\n"
     ]
    },
    {
     "name": "stdout",
     "output_type": "stream",
     "text": [
      "Accuracy Excluding Extra Phonemes\n",
      "Accuracy:\t 0.9262381454162276\n",
      "Num Correct:\t 879\n",
      "Num Predicted Phones:\t 949\n",
      "Caclulating alignment accuracy...\n"
     ]
    },
    {
     "name": "stderr",
     "output_type": "stream",
     "text": [
      "68it [00:00, 475.19it/s]\n"
     ]
    },
    {
     "name": "stdout",
     "output_type": "stream",
     "text": [
      "Accuracy Excluding Extra Phonemes\n",
      "Accuracy:\t 0.924812030075188\n",
      "Num Correct:\t 369\n",
      "Num Predicted Phones:\t 399\n",
      "Caclulating alignment accuracy...\n"
     ]
    },
    {
     "name": "stderr",
     "output_type": "stream",
     "text": [
      "68it [00:00, 452.30it/s]\n"
     ]
    },
    {
     "name": "stdout",
     "output_type": "stream",
     "text": [
      "Accuracy Excluding Extra Phonemes\n",
      "Accuracy:\t 0.8980099502487562\n",
      "Num Correct:\t 361\n",
      "Num Predicted Phones:\t 402\n",
      "Caclulating alignment accuracy...\n"
     ]
    },
    {
     "name": "stderr",
     "output_type": "stream",
     "text": [
      "98it [00:00, 299.80it/s]\n"
     ]
    },
    {
     "name": "stdout",
     "output_type": "stream",
     "text": [
      "Accuracy Excluding Extra Phonemes\n",
      "Accuracy:\t 0.9285714285714286\n",
      "Num Correct:\t 884\n",
      "Num Predicted Phones:\t 952\n",
      "Caclulating alignment accuracy...\n"
     ]
    },
    {
     "name": "stderr",
     "output_type": "stream",
     "text": [
      "98it [00:00, 302.73it/s]\n"
     ]
    },
    {
     "name": "stdout",
     "output_type": "stream",
     "text": [
      "Accuracy Excluding Extra Phonemes\n",
      "Accuracy:\t 0.9193717277486911\n",
      "Num Correct:\t 878\n",
      "Num Predicted Phones:\t 955\n",
      "Caclulating alignment accuracy...\n"
     ]
    },
    {
     "name": "stderr",
     "output_type": "stream",
     "text": [
      "98it [00:00, 373.44it/s]\n"
     ]
    },
    {
     "name": "stdout",
     "output_type": "stream",
     "text": [
      "Accuracy Excluding Extra Phonemes\n",
      "Accuracy:\t 0.950733752620545\n",
      "Num Correct:\t 907\n",
      "Num Predicted Phones:\t 954\n",
      "Caclulating alignment accuracy...\n"
     ]
    },
    {
     "name": "stderr",
     "output_type": "stream",
     "text": [
      "98it [00:00, 372.81it/s]\n"
     ]
    },
    {
     "name": "stdout",
     "output_type": "stream",
     "text": [
      "Accuracy Excluding Extra Phonemes\n",
      "Accuracy:\t 0.93717277486911\n",
      "Num Correct:\t 895\n",
      "Num Predicted Phones:\t 955\n",
      "Caclulating alignment accuracy...\n"
     ]
    },
    {
     "name": "stderr",
     "output_type": "stream",
     "text": [
      "67it [00:00, 465.97it/s]\n"
     ]
    },
    {
     "name": "stdout",
     "output_type": "stream",
     "text": [
      "Accuracy Excluding Extra Phonemes\n",
      "Accuracy:\t 0.9419191919191919\n",
      "Num Correct:\t 373\n",
      "Num Predicted Phones:\t 396\n",
      "Caclulating alignment accuracy...\n"
     ]
    },
    {
     "name": "stderr",
     "output_type": "stream",
     "text": [
      "67it [00:00, 464.48it/s]\n"
     ]
    },
    {
     "name": "stdout",
     "output_type": "stream",
     "text": [
      "Accuracy Excluding Extra Phonemes\n",
      "Accuracy:\t 0.929471032745592\n",
      "Num Correct:\t 369\n",
      "Num Predicted Phones:\t 397\n",
      "Caclulating alignment accuracy...\n"
     ]
    },
    {
     "name": "stderr",
     "output_type": "stream",
     "text": [
      "87it [00:00, 397.85it/s]\n"
     ]
    },
    {
     "name": "stdout",
     "output_type": "stream",
     "text": [
      "Accuracy Excluding Extra Phonemes\n",
      "Accuracy:\t 0.9158751696065129\n",
      "Num Correct:\t 675\n",
      "Num Predicted Phones:\t 737\n",
      "Caclulating alignment accuracy...\n"
     ]
    },
    {
     "name": "stderr",
     "output_type": "stream",
     "text": [
      "87it [00:00, 397.98it/s]\n"
     ]
    },
    {
     "name": "stdout",
     "output_type": "stream",
     "text": [
      "Accuracy Excluding Extra Phonemes\n",
      "Accuracy:\t 0.8846675712347354\n",
      "Num Correct:\t 652\n",
      "Num Predicted Phones:\t 737\n",
      "Caclulating alignment accuracy...\n"
     ]
    },
    {
     "name": "stderr",
     "output_type": "stream",
     "text": [
      "58it [00:00, 500.67it/s]\n"
     ]
    },
    {
     "name": "stdout",
     "output_type": "stream",
     "text": [
      "Accuracy Excluding Extra Phonemes\n",
      "Accuracy:\t 0.9532374100719424\n",
      "Num Correct:\t 265\n",
      "Num Predicted Phones:\t 278\n",
      "Caclulating alignment accuracy...\n"
     ]
    },
    {
     "name": "stderr",
     "output_type": "stream",
     "text": [
      "58it [00:00, 499.47it/s]\n"
     ]
    },
    {
     "name": "stdout",
     "output_type": "stream",
     "text": [
      "Accuracy Excluding Extra Phonemes\n",
      "Accuracy:\t 0.9283154121863799\n",
      "Num Correct:\t 259\n",
      "Num Predicted Phones:\t 279\n",
      "Caclulating alignment accuracy...\n"
     ]
    },
    {
     "name": "stderr",
     "output_type": "stream",
     "text": [
      "98it [00:00, 368.18it/s]\n"
     ]
    },
    {
     "name": "stdout",
     "output_type": "stream",
     "text": [
      "Accuracy Excluding Extra Phonemes\n",
      "Accuracy:\t 0.9204545454545454\n",
      "Num Correct:\t 891\n",
      "Num Predicted Phones:\t 968\n",
      "Caclulating alignment accuracy...\n"
     ]
    },
    {
     "name": "stderr",
     "output_type": "stream",
     "text": [
      "98it [00:00, 369.01it/s]\n"
     ]
    },
    {
     "name": "stdout",
     "output_type": "stream",
     "text": [
      "Accuracy Excluding Extra Phonemes\n",
      "Accuracy:\t 0.9092783505154639\n",
      "Num Correct:\t 882\n",
      "Num Predicted Phones:\t 970\n",
      "Caclulating alignment accuracy...\n"
     ]
    },
    {
     "name": "stderr",
     "output_type": "stream",
     "text": [
      "95it [00:00, 305.00it/s]\n"
     ]
    },
    {
     "name": "stdout",
     "output_type": "stream",
     "text": [
      "Accuracy Excluding Extra Phonemes\n",
      "Accuracy:\t 0.9416846652267818\n",
      "Num Correct:\t 872\n",
      "Num Predicted Phones:\t 926\n",
      "Caclulating alignment accuracy...\n"
     ]
    },
    {
     "name": "stderr",
     "output_type": "stream",
     "text": [
      "95it [00:00, 307.28it/s]\n"
     ]
    },
    {
     "name": "stdout",
     "output_type": "stream",
     "text": [
      "Accuracy Excluding Extra Phonemes\n",
      "Accuracy:\t 0.9418729817007535\n",
      "Num Correct:\t 875\n",
      "Num Predicted Phones:\t 929\n",
      "Caclulating alignment accuracy...\n"
     ]
    },
    {
     "name": "stderr",
     "output_type": "stream",
     "text": [
      "98it [00:00, 367.01it/s]\n"
     ]
    },
    {
     "name": "stdout",
     "output_type": "stream",
     "text": [
      "Accuracy Excluding Extra Phonemes\n",
      "Accuracy:\t 0.9211356466876972\n",
      "Num Correct:\t 876\n",
      "Num Predicted Phones:\t 951\n",
      "Caclulating alignment accuracy...\n"
     ]
    },
    {
     "name": "stderr",
     "output_type": "stream",
     "text": [
      "98it [00:00, 378.15it/s]\n"
     ]
    },
    {
     "name": "stdout",
     "output_type": "stream",
     "text": [
      "Accuracy Excluding Extra Phonemes\n",
      "Accuracy:\t 0.9188619599578504\n",
      "Num Correct:\t 872\n",
      "Num Predicted Phones:\t 949\n",
      "Caclulating alignment accuracy...\n"
     ]
    },
    {
     "name": "stderr",
     "output_type": "stream",
     "text": [
      "88it [00:00, 399.12it/s]\n"
     ]
    },
    {
     "name": "stdout",
     "output_type": "stream",
     "text": [
      "Accuracy Excluding Extra Phonemes\n",
      "Accuracy:\t 0.9116847826086957\n",
      "Num Correct:\t 671\n",
      "Num Predicted Phones:\t 736\n",
      "Caclulating alignment accuracy...\n"
     ]
    },
    {
     "name": "stderr",
     "output_type": "stream",
     "text": [
      "88it [00:00, 401.13it/s]\n"
     ]
    },
    {
     "name": "stdout",
     "output_type": "stream",
     "text": [
      "Accuracy Excluding Extra Phonemes\n",
      "Accuracy:\t 0.8947368421052632\n",
      "Num Correct:\t 663\n",
      "Num Predicted Phones:\t 741\n",
      "Caclulating alignment accuracy...\n"
     ]
    },
    {
     "name": "stderr",
     "output_type": "stream",
     "text": [
      "75it [00:00, 374.68it/s]"
     ]
    },
    {
     "name": "stdout",
     "output_type": "stream",
     "text": [
      "Textgrid file  ./results_sat/0411_M_LM/0411_M_LMwT32.TextGrid  not found, skippping this file\n"
     ]
    },
    {
     "name": "stderr",
     "output_type": "stream",
     "text": [
      "86it [00:00, 375.54it/s]\n"
     ]
    },
    {
     "name": "stdout",
     "output_type": "stream",
     "text": [
      "Accuracy Excluding Extra Phonemes\n",
      "Accuracy:\t 0.8739495798319328\n",
      "Num Correct:\t 624\n",
      "Num Predicted Phones:\t 714\n",
      "Caclulating alignment accuracy...\n"
     ]
    },
    {
     "name": "stderr",
     "output_type": "stream",
     "text": [
      "86it [00:00, 397.67it/s]\n"
     ]
    },
    {
     "name": "stdout",
     "output_type": "stream",
     "text": [
      "Accuracy Excluding Extra Phonemes\n",
      "Accuracy:\t 0.8314917127071824\n",
      "Num Correct:\t 602\n",
      "Num Predicted Phones:\t 724\n",
      "Caclulating alignment accuracy...\n"
     ]
    },
    {
     "name": "stderr",
     "output_type": "stream",
     "text": [
      "97it [00:00, 319.17it/s]\n"
     ]
    },
    {
     "name": "stdout",
     "output_type": "stream",
     "text": [
      "Accuracy Excluding Extra Phonemes\n",
      "Accuracy:\t 0.11586638830897704\n",
      "Num Correct:\t 111\n",
      "Num Predicted Phones:\t 958\n",
      "Caclulating alignment accuracy...\n"
     ]
    },
    {
     "name": "stderr",
     "output_type": "stream",
     "text": [
      "97it [00:00, 313.19it/s]\n"
     ]
    },
    {
     "name": "stdout",
     "output_type": "stream",
     "text": [
      "Accuracy Excluding Extra Phonemes\n",
      "Accuracy:\t 0.9213362068965517\n",
      "Num Correct:\t 855\n",
      "Num Predicted Phones:\t 928\n",
      "Caclulating alignment accuracy...\n"
     ]
    },
    {
     "name": "stderr",
     "output_type": "stream",
     "text": [
      "97it [00:00, 385.77it/s]\n"
     ]
    },
    {
     "name": "stdout",
     "output_type": "stream",
     "text": [
      "Accuracy Excluding Extra Phonemes\n",
      "Accuracy:\t 0.9195278969957081\n",
      "Num Correct:\t 857\n",
      "Num Predicted Phones:\t 932\n",
      "Caclulating alignment accuracy...\n"
     ]
    },
    {
     "name": "stderr",
     "output_type": "stream",
     "text": [
      "97it [00:00, 383.92it/s]\n"
     ]
    },
    {
     "name": "stdout",
     "output_type": "stream",
     "text": [
      "Accuracy Excluding Extra Phonemes\n",
      "Accuracy:\t 0.902465166130761\n",
      "Num Correct:\t 842\n",
      "Num Predicted Phones:\t 933\n",
      "Caclulating alignment accuracy...\n"
     ]
    },
    {
     "name": "stderr",
     "output_type": "stream",
     "text": [
      "97it [00:00, 354.07it/s]\n"
     ]
    },
    {
     "name": "stdout",
     "output_type": "stream",
     "text": [
      "Accuracy Excluding Extra Phonemes\n",
      "Accuracy:\t 0.8968085106382979\n",
      "Num Correct:\t 843\n",
      "Num Predicted Phones:\t 940\n",
      "Caclulating alignment accuracy...\n"
     ]
    },
    {
     "name": "stderr",
     "output_type": "stream",
     "text": [
      "97it [00:00, 371.14it/s]\n"
     ]
    },
    {
     "name": "stdout",
     "output_type": "stream",
     "text": [
      "Accuracy Excluding Extra Phonemes\n",
      "Accuracy:\t 0.8714436248682824\n",
      "Num Correct:\t 827\n",
      "Num Predicted Phones:\t 949\n",
      "Caclulating alignment accuracy...\n"
     ]
    },
    {
     "name": "stderr",
     "output_type": "stream",
     "text": [
      "98it [00:00, 371.32it/s]\n"
     ]
    },
    {
     "name": "stdout",
     "output_type": "stream",
     "text": [
      "Accuracy Excluding Extra Phonemes\n",
      "Accuracy:\t 0.8574445617740233\n",
      "Num Correct:\t 812\n",
      "Num Predicted Phones:\t 947\n",
      "Caclulating alignment accuracy...\n"
     ]
    },
    {
     "name": "stderr",
     "output_type": "stream",
     "text": [
      "98it [00:00, 374.67it/s]\n"
     ]
    },
    {
     "name": "stdout",
     "output_type": "stream",
     "text": [
      "Accuracy Excluding Extra Phonemes\n",
      "Accuracy:\t 0.8515789473684211\n",
      "Num Correct:\t 809\n",
      "Num Predicted Phones:\t 950\n",
      "Caclulating alignment accuracy...\n"
     ]
    },
    {
     "name": "stderr",
     "output_type": "stream",
     "text": [
      "92it [00:00, 299.80it/s]\n"
     ]
    },
    {
     "name": "stdout",
     "output_type": "stream",
     "text": [
      "Accuracy Excluding Extra Phonemes\n",
      "Accuracy:\t 0.9347116430903155\n",
      "Num Correct:\t 859\n",
      "Num Predicted Phones:\t 919\n",
      "Caclulating alignment accuracy...\n"
     ]
    },
    {
     "name": "stderr",
     "output_type": "stream",
     "text": [
      "92it [00:00, 299.18it/s]\n"
     ]
    },
    {
     "name": "stdout",
     "output_type": "stream",
     "text": [
      "Accuracy Excluding Extra Phonemes\n",
      "Accuracy:\t 0.9164859002169198\n",
      "Num Correct:\t 845\n",
      "Num Predicted Phones:\t 922\n",
      "Caclulating alignment accuracy...\n"
     ]
    },
    {
     "name": "stderr",
     "output_type": "stream",
     "text": [
      "98it [00:00, 303.43it/s]\n"
     ]
    },
    {
     "name": "stdout",
     "output_type": "stream",
     "text": [
      "Accuracy Excluding Extra Phonemes\n",
      "Accuracy:\t 0.9180672268907563\n",
      "Num Correct:\t 874\n",
      "Num Predicted Phones:\t 952\n",
      "Caclulating alignment accuracy...\n"
     ]
    },
    {
     "name": "stderr",
     "output_type": "stream",
     "text": [
      "98it [00:00, 305.73it/s]\n"
     ]
    },
    {
     "name": "stdout",
     "output_type": "stream",
     "text": [
      "Accuracy Excluding Extra Phonemes\n",
      "Accuracy:\t 0.9053627760252366\n",
      "Num Correct:\t 861\n",
      "Num Predicted Phones:\t 951\n",
      "Caclulating alignment accuracy...\n"
     ]
    },
    {
     "name": "stderr",
     "output_type": "stream",
     "text": [
      "63it [00:00, 464.34it/s]\n"
     ]
    },
    {
     "name": "stdout",
     "output_type": "stream",
     "text": [
      "Accuracy Excluding Extra Phonemes\n",
      "Accuracy:\t 0.8816901408450705\n",
      "Num Correct:\t 313\n",
      "Num Predicted Phones:\t 355\n",
      "Caclulating alignment accuracy...\n"
     ]
    },
    {
     "name": "stderr",
     "output_type": "stream",
     "text": [
      "63it [00:00, 470.45it/s]\n"
     ]
    },
    {
     "name": "stdout",
     "output_type": "stream",
     "text": [
      "Accuracy Excluding Extra Phonemes\n",
      "Accuracy:\t 0.8319327731092437\n",
      "Num Correct:\t 297\n",
      "Num Predicted Phones:\t 357\n",
      "Caclulating alignment accuracy...\n"
     ]
    },
    {
     "name": "stderr",
     "output_type": "stream",
     "text": [
      "93it [00:00, 368.28it/s]\n"
     ]
    },
    {
     "name": "stdout",
     "output_type": "stream",
     "text": [
      "Accuracy Excluding Extra Phonemes\n",
      "Accuracy:\t 0.8931623931623932\n",
      "Num Correct:\t 836\n",
      "Num Predicted Phones:\t 936\n",
      "Caclulating alignment accuracy...\n"
     ]
    },
    {
     "name": "stderr",
     "output_type": "stream",
     "text": [
      "93it [00:00, 367.48it/s]"
     ]
    },
    {
     "name": "stdout",
     "output_type": "stream",
     "text": [
      "Accuracy Excluding Extra Phonemes\n",
      "Accuracy:\t 0.8522848034006376\n",
      "Num Correct:\t 802\n",
      "Num Predicted Phones:\t 941\n"
     ]
    },
    {
     "name": "stderr",
     "output_type": "stream",
     "text": [
      "\n"
     ]
    }
   ],
   "source": [
    "results_dct = {}\n",
    "\n",
    "for speaker_id in list(satdf.index):\n",
    "    _results = {}\n",
    "    manual_tgs_path = [tgpath for tgpath in unmatched_manual_textgrid_files if speaker_id in tgpath]\n",
    "    finetuned_tgs_sat = [os.path.join('./results_sat', tgpath.split('/')[-2], tgpath.split('/')[-1]) for tgpath in unmatched_manual_textgrid_files if speaker_id in tgpath]\n",
    "    finetuned_tgs_frame = [os.path.join('./results_frame_10epochs', tgpath.split('/')[-2], tgpath.split('/')[-1]) for tgpath in unmatched_manual_textgrid_files if speaker_id in tgpath]\n",
    "    \n",
    "    tgpath = './results_sat/'\n",
    "\n",
    "    sat_acc, pt_numcorrect, pt_numpredicted = calc_accuracy_between_textgrid_lists(manual_tgs_path,\n",
    "                                                                                      finetuned_tgs_sat)\n",
    "    \n",
    "    frame_acc, pt_numcorrect, pt_numpredicted = calc_accuracy_between_textgrid_lists(manual_tgs_path,\n",
    "                                                                                      finetuned_tgs_frame)\n",
    "    _results['FrameWise_Acc'] = frame_acc\n",
    "    _results['SAT_Accuracy'] = sat_acc\n",
    "    results_dct[speaker_id] = _results\n",
    "    "
   ]
  },
  {
   "cell_type": "code",
   "execution_count": 26,
   "id": "6ba96737-6734-473e-865a-8ce250812edc",
   "metadata": {},
   "outputs": [],
   "source": [
    "rslts_df = pd.DataFrame.from_dict(results_dct, orient='index')\n",
    "rslts_df['PerfDiff'] =  rslts_df['SAT_Accuracy'] - rslts_df['FrameWise_Acc']"
   ]
  },
  {
   "cell_type": "code",
   "execution_count": 28,
   "id": "3c3eb422-1ff6-4620-bcbb-9a1084bc6986",
   "metadata": {},
   "outputs": [
    {
     "data": {
      "text/plain": [
       "Text(0, 0.5, 'Number of Speakers')"
      ]
     },
     "execution_count": 28,
     "metadata": {},
     "output_type": "execute_result"
    },
    {
     "data": {
      "image/png": "[encoded data removed]",
      "text/plain": [
       "<Figure size 432x288 with 1 Axes>"
      ]
     },
     "metadata": {
      "needs_background": "light"
     },
     "output_type": "display_data"
    }
   ],
   "source": [
    "plt.figure()\n",
    "plt.hist(rslts_df['PerfDiff'].values, bins=50)\n",
    "# plt.xlim([-.1, .25])\n",
    "plt.grid()\n",
    "plt.title('Accuracy Difference With and Without SAT')\n",
    "plt.xlabel('AccuracyWithSAT - AccuracyNoSAT')\n",
    "plt.ylabel('Number of Speakers')"
   ]
  },
  {
   "cell_type": "code",
   "execution_count": 41,
   "id": "73eed0bd-5387-43a9-bc7e-39a412c4eb5e",
   "metadata": {},
   "outputs": [
    {
     "ename": "KeyboardInterrupt",
     "evalue": "",
     "output_type": "error",
     "traceback": [
      "\u001b[0;31m---------------------------------------------------------------------------\u001b[0m",
      "\u001b[0;31mKeyboardInterrupt\u001b[0m                         Traceback (most recent call last)",
      "\u001b[0;32m/tmp/ipykernel_25470/3567915355.py\u001b[0m in \u001b[0;36m<module>\u001b[0;34m\u001b[0m\n\u001b[1;32m      1\u001b[0m \u001b[0;32mwhile\u001b[0m \u001b[0;34m(\u001b[0m\u001b[0;32mTrue\u001b[0m\u001b[0;34m)\u001b[0m\u001b[0;34m:\u001b[0m\u001b[0;34m\u001b[0m\u001b[0;34m\u001b[0m\u001b[0m\n\u001b[0;32m----> 2\u001b[0;31m     \u001b[0mnp\u001b[0m\u001b[0;34m.\u001b[0m\u001b[0mrandom\u001b[0m\u001b[0;34m.\u001b[0m\u001b[0mrandn\u001b[0m\u001b[0;34m(\u001b[0m\u001b[0;36m10000\u001b[0m\u001b[0;34m,\u001b[0m \u001b[0;36m1\u001b[0m\u001b[0;34m)\u001b[0m\u001b[0;34m\u001b[0m\u001b[0;34m\u001b[0m\u001b[0m\n\u001b[0m",
      "\u001b[0;31mKeyboardInterrupt\u001b[0m: "
     ]
    }
   ],
   "source": [
    "while (True):\n",
    "    np.random.randn(10000, 1)"
   ]
  },
  {
   "cell_type": "code",
   "execution_count": 40,
   "id": "88789180-fee6-47de-9cb9-45f7f2f1ebe3",
   "metadata": {},
   "outputs": [
    {
     "data": {
      "text/plain": [
       "0.04988344988344984"
      ]
     },
     "execution_count": 40,
     "metadata": {},
     "output_type": "execute_result"
    }
   ],
   "source": [
    "perf_dif = rslts_df['PerfDiff'].values[rslts_df['PerfDiff']>-.2]\n",
    "np.mean(perf_dif)\n",
    "np.max(perf_dif)"
   ]
  },
  {
   "cell_type": "code",
   "execution_count": 9,
   "id": "8e4426f2-11e9-4f9d-b005-b2fcecb6ddde",
   "metadata": {},
   "outputs": [],
   "source": [
    "strange_idxs = np.argwhere(np.array(perfdif)<-.5).ravel()\n",
    "strange_speakers = [perf_diff[sidxs] for sidxs in strange_idxs]"
   ]
  },
  {
   "cell_type": "code",
   "execution_count": 10,
   "id": "c9e8b8be-1b5f-4b57-b21e-736a88d667aa",
   "metadata": {},
   "outputs": [
    {
     "data": {
      "text/plain": [
       "[]"
      ]
     },
     "execution_count": 10,
     "metadata": {},
     "output_type": "execute_result"
    }
   ],
   "source": [
    "strange_speakers"
   ]
  },
  {
   "cell_type": "code",
   "execution_count": 46,
   "id": "7dcd6f3e-93ba-47c2-85a5-1cf8b3c89ccf",
   "metadata": {},
   "outputs": [
    {
     "data": {
      "text/plain": [
       "(array([14., 11., 11.,  8., 12., 13.,  9.,  7., 11.,  9.,  3.,  6.,  8.,\n",
       "         4., 11., 15., 11., 14., 20., 12., 10.,  9.,  8., 13., 10., 10.,\n",
       "         5.,  9., 11., 11.,  6.,  5.,  8., 12., 12., 12.,  5.,  8., 10.,\n",
       "        10.,  9., 11.,  5., 13.,  8., 12.,  8., 11.,  8., 10., 14., 12.,\n",
       "        13., 14.,  4., 10.,  9., 10., 10., 11.,  9., 14., 15.,  4., 10.,\n",
       "        13.,  5.,  9., 11.,  9.,  4.,  9.,  6., 12.,  9., 17.,  5., 16.,\n",
       "         7., 10.,  7., 12., 10.,  8., 10.,  8., 11., 11.,  9., 19.,  6.,\n",
       "        13.,  8., 15.,  8., 14.,  8., 14.,  9., 11.]),\n",
       " array([4.73260788e-04, 1.04507902e-02, 2.04283196e-02, 3.04058490e-02,\n",
       "        4.03833784e-02, 5.03609079e-02, 6.03384373e-02, 7.03159667e-02,\n",
       "        8.02934961e-02, 9.02710255e-02, 1.00248555e-01, 1.10226084e-01,\n",
       "        1.20203614e-01, 1.30181143e-01, 1.40158673e-01, 1.50136202e-01,\n",
       "        1.60113731e-01, 1.70091261e-01, 1.80068790e-01, 1.90046320e-01,\n",
       "        2.00023849e-01, 2.10001378e-01, 2.19978908e-01, 2.29956437e-01,\n",
       "        2.39933967e-01, 2.49911496e-01, 2.59889026e-01, 2.69866555e-01,\n",
       "        2.79844084e-01, 2.89821614e-01, 2.99799143e-01, 3.09776673e-01,\n",
       "        3.19754202e-01, 3.29731731e-01, 3.39709261e-01, 3.49686790e-01,\n",
       "        3.59664320e-01, 3.69641849e-01, 3.79619378e-01, 3.89596908e-01,\n",
       "        3.99574437e-01, 4.09551967e-01, 4.19529496e-01, 4.29507026e-01,\n",
       "        4.39484555e-01, 4.49462084e-01, 4.59439614e-01, 4.69417143e-01,\n",
       "        4.79394673e-01, 4.89372202e-01, 4.99349731e-01, 5.09327261e-01,\n",
       "        5.19304790e-01, 5.29282320e-01, 5.39259849e-01, 5.49237379e-01,\n",
       "        5.59214908e-01, 5.69192437e-01, 5.79169967e-01, 5.89147496e-01,\n",
       "        5.99125026e-01, 6.09102555e-01, 6.19080084e-01, 6.29057614e-01,\n",
       "        6.39035143e-01, 6.49012673e-01, 6.58990202e-01, 6.68967731e-01,\n",
       "        6.78945261e-01, 6.88922790e-01, 6.98900320e-01, 7.08877849e-01,\n",
       "        7.18855379e-01, 7.28832908e-01, 7.38810437e-01, 7.48787967e-01,\n",
       "        7.58765496e-01, 7.68743026e-01, 7.78720555e-01, 7.88698084e-01,\n",
       "        7.98675614e-01, 8.08653143e-01, 8.18630673e-01, 8.28608202e-01,\n",
       "        8.38585731e-01, 8.48563261e-01, 8.58540790e-01, 8.68518320e-01,\n",
       "        8.78495849e-01, 8.88473379e-01, 8.98450908e-01, 9.08428437e-01,\n",
       "        9.18405967e-01, 9.28383496e-01, 9.38361026e-01, 9.48338555e-01,\n",
       "        9.58316084e-01, 9.68293614e-01, 9.78271143e-01, 9.88248673e-01,\n",
       "        9.98226202e-01]),\n",
       " <BarContainer object of 100 artists>)"
      ]
     },
     "execution_count": 46,
     "metadata": {},
     "output_type": "execute_result"
    },
    {
     "data": {
      "image/png": "[encoded data removed]",
      "text/plain": [
       "<Figure size 432x288 with 1 Axes>"
      ]
     },
     "metadata": {
      "needs_background": "light"
     },
     "output_type": "display_data"
    }
   ],
   "source": [
    "asdf = np.random.rand(1000)\n",
    "xmin = -2.5\n",
    "xmax = 7\n",
    "plt.hist(asdf, bins=100)"
   ]
  },
  {
   "cell_type": "code",
   "execution_count": 62,
   "id": "859414d1-c08e-41fb-afd5-6ef42f2a8182",
   "metadata": {},
   "outputs": [],
   "source": [
    "''' \n",
    "create a 5 part dataset\n",
    "'''\n",
    "\n",
    "def piecewise_posterior(npoints=10000, n_components=5, priors=None, xmin=0, xmax=1):\n",
    "    x = np.random.rand(npoints) \n",
    "    x = x  * (xmax - xmin) + xmin\n",
    "    \n",
    "    \n",
    "    y = np.zeros_like(x) \n",
    "    posterior = np.zeros_like(x)\n",
    "    \n",
    "    \n",
    "    "
   ]
  },
  {
   "cell_type": "code",
   "execution_count": null,
   "id": "b4c964a5-6bbf-46ec-90ad-2cea0ac9e283",
   "metadata": {},
   "outputs": [],
   "source": []
  },
  {
   "cell_type": "code",
   "execution_count": null,
   "id": "2891c9ff-d8c2-4034-888f-de8876a103c6",
   "metadata": {},
   "outputs": [],
   "source": []
  },
  {
   "cell_type": "code",
   "execution_count": null,
   "id": "355fb09d-057b-402e-84a4-bfa444742bd8",
   "metadata": {},
   "outputs": [],
   "source": []
  }
 ],
 "metadata": {
  "kernelspec": {
   "display_name": "a2",
   "language": "python",
   "name": "a2"
  },
  "language_info": {
   "codemirror_mode": {
    "name": "ipython",
    "version": 3
   },
   "file_extension": ".py",
   "mimetype": "text/x-python",
   "name": "python",
   "nbconvert_exporter": "python",
   "pygments_lexer": "ipython3",
   "version": "3.7.11"
  }
 },
 "nbformat": 4,
 "nbformat_minor": 5
}
