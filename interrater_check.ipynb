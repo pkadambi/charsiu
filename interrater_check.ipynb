{
 "cells": [
  {
   "cell_type": "code",
   "execution_count": 1,
   "id": "9fdb24d3-7b8e-448b-9abe-2b9e9bfdcbcc",
   "metadata": {},
   "outputs": [
    {
     "name": "stderr",
     "output_type": "stream",
     "text": [
      "/home/prad/anaconda3/envs/a2/lib/python3.7/site-packages/tqdm/auto.py:22: TqdmWarning: IProgress not found. Please update jupyter and ipywidgets. See https://ipywidgets.readthedocs.io/en/stable/user_install.html\n",
      "  from .autonotebook import tqdm as notebook_tqdm\n",
      "Special tokens have been added in the vocabulary, make sure the associated word embeddings are fine-tuned or trained.\n",
      "/home/prad/anaconda3/envs/a2/lib/python3.7/site-packages/transformers/configuration_utils.py:359: UserWarning: Passing `gradient_checkpointing` to a config initialization is deprecated and will be removed in v5 Transformers. Using `model.gradient_checkpointing_enable()` instead, or if you are using the `Trainer` API, pass `gradient_checkpointing=True` in your `TrainingArguments`.\n",
      "  \"Passing `gradient_checkpointing` to a config initialization is deprecated and will be removed in v5 \"\n",
      "/home/prad/anaconda3/envs/a2/lib/python3.7/site-packages/Bio/pairwise2.py:283: BiopythonDeprecationWarning: Bio.pairwise2 has been deprecated, and we intend to remove it in a future release of Biopython. As an alternative, please consider using Bio.Align.PairwiseAligner as a replacement, and contact the Biopython developers if you still need the Bio.pairwise2 module.\n",
      "  BiopythonDeprecationWarning,\n"
     ]
    }
   ],
   "source": [
    "import os\n",
    "import tqdm\n",
    "import copy\n",
    "import pandas as pd\n",
    "import numpy as np\n",
    "import pickle as pkl\n",
    "import matplotlib.pyplot as plt\n",
    "from alignment_helper_fns import *\n",
    "from gop_helper_fns import *\n",
    "from mfa_evaluation_utils import *\n",
    "from g2p_en import G2p\n",
    "g2p = G2p()"
   ]
  },
  {
   "cell_type": "code",
   "execution_count": 24,
   "id": "eab443e0-86e9-44b5-93ac-784968088eec",
   "metadata": {},
   "outputs": [],
   "source": [
    "interraterpath = '/home/prad/datasets/ChildSpeechDataset/interrater-check/'\n",
    "path = '/home/prad/datasets/ChildSpeechDataset/manually-aligned-text-grids'"
   ]
  },
  {
   "cell_type": "code",
   "execution_count": 29,
   "id": "54734e4a-2849-4c28-97b3-ef4fff35f57e",
   "metadata": {},
   "outputs": [],
   "source": [
    "import glob\n",
    "for speakerpath in glob.glob(interraterpath+'*'):\n",
    "    speaker = speakerpath.split('/')[-1]\n",
    "    \n",
    "    human1path = os.path.join(path, speaker)\n",
    "    human1tgs = [file for file in glob.glob(f'{human1path}/*')]\n",
    "    \n",
    "    human2path = os.path.join(interraterpath, speaker)\n",
    "    human2tgs = [file for file in glob.glob(f'{human2path}/*')]\n",
    "    \n",
    "    "
   ]
  },
  {
   "cell_type": "code",
   "execution_count": 32,
   "id": "4c2a556e-b998-4761-9c0a-f5e78a3914d9",
   "metadata": {},
   "outputs": [
    {
     "data": {
      "text/plain": [
       "'/home/prad/datasets/ChildSpeechDataset/interrater-check/0303_M_AN/0303_M_ANwT37.TextGrid'"
      ]
     },
     "execution_count": 32,
     "metadata": {},
     "output_type": "execute_result"
    }
   ],
   "source": [
    "human2tgs[0]"
   ]
  },
  {
   "cell_type": "code",
   "execution_count": 31,
   "id": "7c240fac-4ab6-405f-8d44-4885640b93f8",
   "metadata": {},
   "outputs": [
    {
     "data": {
      "text/plain": [
       "'/home/prad/datasets/ChildSpeechDataset/manually-aligned-text-grids/0303_M_AN/0303_M_ANwT37.TextGrid'"
      ]
     },
     "execution_count": 31,
     "metadata": {},
     "output_type": "execute_result"
    }
   ],
   "source": [
    "human1tgs[0]"
   ]
  },
  {
   "cell_type": "code",
   "execution_count": 27,
   "id": "fdc5b4e0-fd93-4ee4-b44f-cbebe78309ec",
   "metadata": {},
   "outputs": [
    {
     "data": {
      "text/plain": [
       "'/home/prad/datasets/ChildSpeechDataset/manually-aligned-text-grids/0303_M_AN/*.TextGrid'"
      ]
     },
     "execution_count": 27,
     "metadata": {},
     "output_type": "execute_result"
    }
   ],
   "source": [
    "f'{human1path}/*.TextGrid'"
   ]
  },
  {
   "cell_type": "code",
   "execution_count": 28,
   "id": "f61d5593-f0b1-4ad2-ab55-83f74e41050b",
   "metadata": {},
   "outputs": [
    {
     "data": {
      "text/plain": [
       "['/home/prad/datasets/ChildSpeechDataset/manually-aligned-text-grids/0303_M_AN/0303_M_ANwT37.TextGrid',\n",
       " '/home/prad/datasets/ChildSpeechDataset/manually-aligned-text-grids/0303_M_AN/0303_M_ANwT23.TextGrid',\n",
       " '/home/prad/datasets/ChildSpeechDataset/manually-aligned-text-grids/0303_M_AN/0303_M_ANs2T10.TextGrid',\n",
       " '/home/prad/datasets/ChildSpeechDataset/manually-aligned-text-grids/0303_M_AN/0303_M_ANs3T09.TextGrid',\n",
       " '/home/prad/datasets/ChildSpeechDataset/manually-aligned-text-grids/0303_M_AN/0303_M_ANwT31.TextGrid',\n",
       " '/home/prad/datasets/ChildSpeechDataset/manually-aligned-text-grids/0303_M_AN/0303_M_ANs4T06.TextGrid',\n",
       " '/home/prad/datasets/ChildSpeechDataset/manually-aligned-text-grids/0303_M_AN/0303_M_ANs3T10.TextGrid',\n",
       " '/home/prad/datasets/ChildSpeechDataset/manually-aligned-text-grids/0303_M_AN/0303_M_ANs3T07.TextGrid',\n",
       " '/home/prad/datasets/ChildSpeechDataset/manually-aligned-text-grids/0303_M_AN/0303_M_ANs4T05.TextGrid',\n",
       " '/home/prad/datasets/ChildSpeechDataset/manually-aligned-text-grids/0303_M_AN/0303_M_ANwT08.TextGrid',\n",
       " '/home/prad/datasets/ChildSpeechDataset/manually-aligned-text-grids/0303_M_AN/0303_M_ANwT34.TextGrid',\n",
       " '/home/prad/datasets/ChildSpeechDataset/manually-aligned-text-grids/0303_M_AN/0303_M_ANs4T08.TextGrid',\n",
       " '/home/prad/datasets/ChildSpeechDataset/manually-aligned-text-grids/0303_M_AN/0303_M_ANwT25.TextGrid',\n",
       " '/home/prad/datasets/ChildSpeechDataset/manually-aligned-text-grids/0303_M_AN/0303_M_ANs3T04.TextGrid',\n",
       " '/home/prad/datasets/ChildSpeechDataset/manually-aligned-text-grids/0303_M_AN/0303_M_ANs2T05.TextGrid',\n",
       " '/home/prad/datasets/ChildSpeechDataset/manually-aligned-text-grids/0303_M_AN/0303_M_ANwT27.TextGrid',\n",
       " '/home/prad/datasets/ChildSpeechDataset/manually-aligned-text-grids/0303_M_AN/0303_M_ANs3T05.TextGrid',\n",
       " '/home/prad/datasets/ChildSpeechDataset/manually-aligned-text-grids/0303_M_AN/0303_M_ANwT30.TextGrid',\n",
       " '/home/prad/datasets/ChildSpeechDataset/manually-aligned-text-grids/0303_M_AN/0303_M_ANwT24.TextGrid',\n",
       " '/home/prad/datasets/ChildSpeechDataset/manually-aligned-text-grids/0303_M_AN/0303_M_ANs2T06.TextGrid',\n",
       " '/home/prad/datasets/ChildSpeechDataset/manually-aligned-text-grids/0303_M_AN/0303_M_ANwT19.TextGrid',\n",
       " '/home/prad/datasets/ChildSpeechDataset/manually-aligned-text-grids/0303_M_AN/0303_M_ANwT11.TextGrid',\n",
       " '/home/prad/datasets/ChildSpeechDataset/manually-aligned-text-grids/0303_M_AN/0303_M_ANs4T03.TextGrid',\n",
       " '/home/prad/datasets/ChildSpeechDataset/manually-aligned-text-grids/0303_M_AN/0303_M_ANwT16.TextGrid',\n",
       " '/home/prad/datasets/ChildSpeechDataset/manually-aligned-text-grids/0303_M_AN/0303_M_ANwT42.TextGrid',\n",
       " '/home/prad/datasets/ChildSpeechDataset/manually-aligned-text-grids/0303_M_AN/0303_M_ANs3T06.TextGrid',\n",
       " '/home/prad/datasets/ChildSpeechDataset/manually-aligned-text-grids/0303_M_AN/0303_M_ANwT39.TextGrid',\n",
       " '/home/prad/datasets/ChildSpeechDataset/manually-aligned-text-grids/0303_M_AN/0303_M_ANwT20.TextGrid',\n",
       " '/home/prad/datasets/ChildSpeechDataset/manually-aligned-text-grids/0303_M_AN/0303_M_ANwT40.TextGrid',\n",
       " '/home/prad/datasets/ChildSpeechDataset/manually-aligned-text-grids/0303_M_AN/0303_M_ANwT10.TextGrid',\n",
       " '/home/prad/datasets/ChildSpeechDataset/manually-aligned-text-grids/0303_M_AN/0303_M_ANwT26.TextGrid',\n",
       " '/home/prad/datasets/ChildSpeechDataset/manually-aligned-text-grids/0303_M_AN/0303_M_ANs4T09.TextGrid',\n",
       " '/home/prad/datasets/ChildSpeechDataset/manually-aligned-text-grids/0303_M_AN/0303_M_ANwT03.TextGrid',\n",
       " '/home/prad/datasets/ChildSpeechDataset/manually-aligned-text-grids/0303_M_AN/0303_M_ANs2T03.TextGrid',\n",
       " '/home/prad/datasets/ChildSpeechDataset/manually-aligned-text-grids/0303_M_AN/0303_M_ANwT06.TextGrid',\n",
       " '/home/prad/datasets/ChildSpeechDataset/manually-aligned-text-grids/0303_M_AN/0303_M_ANs2T07.TextGrid',\n",
       " '/home/prad/datasets/ChildSpeechDataset/manually-aligned-text-grids/0303_M_AN/0303_M_ANs4T02.TextGrid',\n",
       " '/home/prad/datasets/ChildSpeechDataset/manually-aligned-text-grids/0303_M_AN/0303_M_ANwT21.TextGrid',\n",
       " '/home/prad/datasets/ChildSpeechDataset/manually-aligned-text-grids/0303_M_AN/0303_M_ANs2T08.TextGrid',\n",
       " '/home/prad/datasets/ChildSpeechDataset/manually-aligned-text-grids/0303_M_AN/0303_M_ANwT18.TextGrid',\n",
       " '/home/prad/datasets/ChildSpeechDataset/manually-aligned-text-grids/0303_M_AN/0303_M_ANwT28.TextGrid',\n",
       " '/home/prad/datasets/ChildSpeechDataset/manually-aligned-text-grids/0303_M_AN/0303_M_ANs4T07.TextGrid',\n",
       " '/home/prad/datasets/ChildSpeechDataset/manually-aligned-text-grids/0303_M_AN/0303_M_ANs4T04.TextGrid',\n",
       " '/home/prad/datasets/ChildSpeechDataset/manually-aligned-text-grids/0303_M_AN/0303_M_ANwT05.TextGrid',\n",
       " '/home/prad/datasets/ChildSpeechDataset/manually-aligned-text-grids/0303_M_AN/0303_M_ANwT29.TextGrid',\n",
       " '/home/prad/datasets/ChildSpeechDataset/manually-aligned-text-grids/0303_M_AN/0303_M_ANwT14.TextGrid',\n",
       " '/home/prad/datasets/ChildSpeechDataset/manually-aligned-text-grids/0303_M_AN/0303_M_ANs3T08.TextGrid',\n",
       " '/home/prad/datasets/ChildSpeechDataset/manually-aligned-text-grids/0303_M_AN/0303_M_ANs3T01.TextGrid',\n",
       " '/home/prad/datasets/ChildSpeechDataset/manually-aligned-text-grids/0303_M_AN/0303_M_ANs4T01.TextGrid',\n",
       " '/home/prad/datasets/ChildSpeechDataset/manually-aligned-text-grids/0303_M_AN/0303_M_ANwT38.TextGrid',\n",
       " '/home/prad/datasets/ChildSpeechDataset/manually-aligned-text-grids/0303_M_AN/0303_M_ANwT22.TextGrid',\n",
       " '/home/prad/datasets/ChildSpeechDataset/manually-aligned-text-grids/0303_M_AN/0303_M_ANs2T04.TextGrid',\n",
       " '/home/prad/datasets/ChildSpeechDataset/manually-aligned-text-grids/0303_M_AN/0303_M_ANwT13.TextGrid',\n",
       " '/home/prad/datasets/ChildSpeechDataset/manually-aligned-text-grids/0303_M_AN/0303_M_ANwT17.TextGrid',\n",
       " '/home/prad/datasets/ChildSpeechDataset/manually-aligned-text-grids/0303_M_AN/0303_M_ANs2T01.TextGrid',\n",
       " '/home/prad/datasets/ChildSpeechDataset/manually-aligned-text-grids/0303_M_AN/0303_M_ANs2T09.TextGrid',\n",
       " '/home/prad/datasets/ChildSpeechDataset/manually-aligned-text-grids/0303_M_AN/0303_M_ANwT33.TextGrid',\n",
       " '/home/prad/datasets/ChildSpeechDataset/manually-aligned-text-grids/0303_M_AN/0303_M_ANwT32.TextGrid',\n",
       " '/home/prad/datasets/ChildSpeechDataset/manually-aligned-text-grids/0303_M_AN/0303_M_ANwT35.TextGrid',\n",
       " '/home/prad/datasets/ChildSpeechDataset/manually-aligned-text-grids/0303_M_AN/0303_M_ANs2T02.TextGrid',\n",
       " '/home/prad/datasets/ChildSpeechDataset/manually-aligned-text-grids/0303_M_AN/0303_M_ANwT12.TextGrid',\n",
       " '/home/prad/datasets/ChildSpeechDataset/manually-aligned-text-grids/0303_M_AN/0303_M_ANwT07.TextGrid',\n",
       " '/home/prad/datasets/ChildSpeechDataset/manually-aligned-text-grids/0303_M_AN/0303_M_ANwT36.TextGrid',\n",
       " '/home/prad/datasets/ChildSpeechDataset/manually-aligned-text-grids/0303_M_AN/0303_M_ANs3T02.TextGrid',\n",
       " '/home/prad/datasets/ChildSpeechDataset/manually-aligned-text-grids/0303_M_AN/0303_M_ANwT15.TextGrid',\n",
       " '/home/prad/datasets/ChildSpeechDataset/manually-aligned-text-grids/0303_M_AN/0303_M_ANwT04.TextGrid',\n",
       " '/home/prad/datasets/ChildSpeechDataset/manually-aligned-text-grids/0303_M_AN/0303_M_ANs3T03.TextGrid']"
      ]
     },
     "execution_count": 28,
     "metadata": {},
     "output_type": "execute_result"
    }
   ],
   "source": [
    "[file for file in glob.glob(f'{human1path}/*')]"
   ]
  },
  {
   "cell_type": "code",
   "execution_count": null,
   "id": "4feabd10-ae5c-44ac-a8a5-b21b2e12949e",
   "metadata": {},
   "outputs": [],
   "source": []
  },
  {
   "cell_type": "code",
   "execution_count": null,
   "id": "49af211a-022d-41fc-aeeb-d60db03a1102",
   "metadata": {},
   "outputs": [],
   "source": []
  }
 ],
 "metadata": {
  "kernelspec": {
   "display_name": "a2",
   "language": "python",
   "name": "a2"
  },
  "language_info": {
   "codemirror_mode": {
    "name": "ipython",
    "version": 3
   },
   "file_extension": ".py",
   "mimetype": "text/x-python",
   "name": "python",
   "nbconvert_exporter": "python",
   "pygments_lexer": "ipython3",
   "version": "3.7.12"
  }
 },
 "nbformat": 4,
 "nbformat_minor": 5
}
